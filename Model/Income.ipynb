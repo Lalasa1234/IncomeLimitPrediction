{
 "cells": [
  {
   "cell_type": "code",
   "execution_count": 75,
   "id": "fac73127",
   "metadata": {},
   "outputs": [],
   "source": [
    "import numpy as np\n",
    "import pandas as pd\n",
    "from autoviz.AutoViz_Class import AutoViz_Class\n",
    "from autoviz import data_cleaning_suggestions\n",
    "%matplotlib inline\n",
    "import matplotlib.pyplot as plt\n",
    "from sklearn.impute import SimpleImputer\n",
    "from catboost import CatBoostClassifier, Pool\n",
    "from xgboost import XGBClassifier, plot_importance\n",
    "from sklearn.model_selection import train_test_split\n",
    "from sklearn.preprocessing import LabelEncoder\n",
    "import category_encoders as ce\n",
    "from imblearn.over_sampling import SMOTENC\n",
    "import sklearn.metrics as skm\n",
    "import joblib"
   ]
  },
  {
   "cell_type": "markdown",
   "id": "f53fe44c",
   "metadata": {},
   "source": [
    "## EDA ##"
   ]
  },
  {
   "cell_type": "code",
   "execution_count": 76,
   "id": "0d0871e5",
   "metadata": {},
   "outputs": [],
   "source": [
    "df = pd.read_csv(r\"C:\\Users\\Dell\\Desktop\\ML course\\Income_Inequality_Prediction_Project2\\Dataset\\Inequality Prediction Dataset.csv\")"
   ]
  },
  {
   "cell_type": "code",
   "execution_count": 77,
   "id": "349d8232",
   "metadata": {
    "tags": []
   },
   "outputs": [
    {
     "name": "stdout",
     "output_type": "stream",
     "text": [
      "<class 'pandas.core.frame.DataFrame'>\n",
      "RangeIndex: 209499 entries, 0 to 209498\n",
      "Data columns (total 43 columns):\n",
      " #   Column                          Non-Null Count   Dtype  \n",
      "---  ------                          --------------   -----  \n",
      " 0   ID                              209499 non-null  object \n",
      " 1   age                             209499 non-null  int64  \n",
      " 2   gender                          209499 non-null  object \n",
      " 3   education                       209499 non-null  object \n",
      " 4   class                           104254 non-null  object \n",
      " 5   education_institute             13302 non-null   object \n",
      " 6   marital_status                  209499 non-null  object \n",
      " 7   race                            209499 non-null  object \n",
      " 8   is_hispanic                     209499 non-null  object \n",
      " 9   employment_commitment           209499 non-null  object \n",
      " 10  unemployment_reason             6520 non-null    object \n",
      " 11  employment_stat                 209499 non-null  int64  \n",
      " 12  wage_per_hour                   209499 non-null  int64  \n",
      " 13  is_labor_union                  20079 non-null   object \n",
      " 14  working_week_per_year           209499 non-null  int64  \n",
      " 15  industry_code                   209499 non-null  int64  \n",
      " 16  industry_code_main              209499 non-null  object \n",
      " 17  occupation_code                 209499 non-null  int64  \n",
      " 18  occupation_code_main            103805 non-null  object \n",
      " 19  total_employed                  209499 non-null  int64  \n",
      " 20  household_stat                  209499 non-null  object \n",
      " 21  household_summary               209499 non-null  object \n",
      " 22  under_18_family                 57845 non-null   object \n",
      " 23  veterans_admin_questionnaire    2084 non-null    object \n",
      " 24  vet_benefit                     209499 non-null  int64  \n",
      " 25  tax_status                      209499 non-null  object \n",
      " 26  gains                           209499 non-null  int64  \n",
      " 27  losses                          209499 non-null  int64  \n",
      " 28  stocks_status                   209499 non-null  int64  \n",
      " 29  citizenship                     209499 non-null  object \n",
      " 30  mig_year                        209499 non-null  int64  \n",
      " 31  country_of_birth_own            209499 non-null  object \n",
      " 32  country_of_birth_father         209499 non-null  object \n",
      " 33  country_of_birth_mother         209499 non-null  object \n",
      " 34  migration_code_change_in_msa    207911 non-null  object \n",
      " 35  migration_prev_sunbelt          121047 non-null  object \n",
      " 36  migration_code_move_within_reg  207911 non-null  object \n",
      " 37  migration_code_change_in_reg    207911 non-null  object \n",
      " 38  residence_1_year_ago            103215 non-null  object \n",
      " 39  old_residence_reg               16351 non-null   object \n",
      " 40  old_residence_state             16351 non-null   object \n",
      " 41  importance_of_record            209499 non-null  float64\n",
      " 42  income_above_limit              209499 non-null  object \n",
      "dtypes: float64(1), int64(12), object(30)\n",
      "memory usage: 68.7+ MB\n"
     ]
    }
   ],
   "source": [
    "df.info()"
   ]
  },
  {
   "cell_type": "code",
   "execution_count": 78,
   "id": "78bc8eb2",
   "metadata": {},
   "outputs": [
    {
     "data": {
      "text/plain": [
       "(209499, 43)"
      ]
     },
     "execution_count": 78,
     "metadata": {},
     "output_type": "execute_result"
    }
   ],
   "source": [
    "df.shape"
   ]
  },
  {
   "cell_type": "code",
   "execution_count": 79,
   "id": "b36143ba",
   "metadata": {
    "scrolled": true
   },
   "outputs": [
    {
     "data": {
      "text/html": [
       "<div>\n",
       "<style scoped>\n",
       "    .dataframe tbody tr th:only-of-type {\n",
       "        vertical-align: middle;\n",
       "    }\n",
       "\n",
       "    .dataframe tbody tr th {\n",
       "        vertical-align: top;\n",
       "    }\n",
       "\n",
       "    .dataframe thead th {\n",
       "        text-align: right;\n",
       "    }\n",
       "</style>\n",
       "<table border=\"1\" class=\"dataframe\">\n",
       "  <thead>\n",
       "    <tr style=\"text-align: center;\">\n",
       "      <th></th>\n",
       "      <th>count</th>\n",
       "      <th>unique</th>\n",
       "      <th>top</th>\n",
       "      <th>freq</th>\n",
       "    </tr>\n",
       "  </thead>\n",
       "  <tbody>\n",
       "    <tr>\n",
       "      <th>ID</th>\n",
       "      <td>209499</td>\n",
       "      <td>209499</td>\n",
       "      <td>ID_TZ0000</td>\n",
       "      <td>1</td>\n",
       "    </tr>\n",
       "    <tr>\n",
       "      <th>gender</th>\n",
       "      <td>209499</td>\n",
       "      <td>2</td>\n",
       "      <td>Female</td>\n",
       "      <td>108784</td>\n",
       "    </tr>\n",
       "    <tr>\n",
       "      <th>education</th>\n",
       "      <td>209499</td>\n",
       "      <td>17</td>\n",
       "      <td>High school graduate</td>\n",
       "      <td>50627</td>\n",
       "    </tr>\n",
       "    <tr>\n",
       "      <th>class</th>\n",
       "      <td>104254</td>\n",
       "      <td>8</td>\n",
       "      <td>Private</td>\n",
       "      <td>75617</td>\n",
       "    </tr>\n",
       "    <tr>\n",
       "      <th>education_institute</th>\n",
       "      <td>13302</td>\n",
       "      <td>2</td>\n",
       "      <td>High school</td>\n",
       "      <td>7247</td>\n",
       "    </tr>\n",
       "    <tr>\n",
       "      <th>marital_status</th>\n",
       "      <td>209499</td>\n",
       "      <td>7</td>\n",
       "      <td>Never married</td>\n",
       "      <td>90723</td>\n",
       "    </tr>\n",
       "    <tr>\n",
       "      <th>race</th>\n",
       "      <td>209499</td>\n",
       "      <td>5</td>\n",
       "      <td>White</td>\n",
       "      <td>175709</td>\n",
       "    </tr>\n",
       "    <tr>\n",
       "      <th>is_hispanic</th>\n",
       "      <td>209499</td>\n",
       "      <td>10</td>\n",
       "      <td>All other</td>\n",
       "      <td>180404</td>\n",
       "    </tr>\n",
       "    <tr>\n",
       "      <th>employment_commitment</th>\n",
       "      <td>209499</td>\n",
       "      <td>8</td>\n",
       "      <td>Children or Armed Forces</td>\n",
       "      <td>129789</td>\n",
       "    </tr>\n",
       "    <tr>\n",
       "      <th>unemployment_reason</th>\n",
       "      <td>6520</td>\n",
       "      <td>5</td>\n",
       "      <td>Other job loser</td>\n",
       "      <td>2242</td>\n",
       "    </tr>\n",
       "    <tr>\n",
       "      <th>is_labor_union</th>\n",
       "      <td>20079</td>\n",
       "      <td>2</td>\n",
       "      <td>No</td>\n",
       "      <td>16968</td>\n",
       "    </tr>\n",
       "    <tr>\n",
       "      <th>industry_code_main</th>\n",
       "      <td>209499</td>\n",
       "      <td>24</td>\n",
       "      <td>Not in universe or children</td>\n",
       "      <td>105694</td>\n",
       "    </tr>\n",
       "    <tr>\n",
       "      <th>occupation_code_main</th>\n",
       "      <td>103805</td>\n",
       "      <td>14</td>\n",
       "      <td>Adm support including clerical</td>\n",
       "      <td>15351</td>\n",
       "    </tr>\n",
       "    <tr>\n",
       "      <th>household_stat</th>\n",
       "      <td>209499</td>\n",
       "      <td>38</td>\n",
       "      <td>Householder</td>\n",
       "      <td>56195</td>\n",
       "    </tr>\n",
       "    <tr>\n",
       "      <th>household_summary</th>\n",
       "      <td>209499</td>\n",
       "      <td>8</td>\n",
       "      <td>Householder</td>\n",
       "      <td>79470</td>\n",
       "    </tr>\n",
       "    <tr>\n",
       "      <th>under_18_family</th>\n",
       "      <td>57845</td>\n",
       "      <td>4</td>\n",
       "      <td>Both parents present</td>\n",
       "      <td>40875</td>\n",
       "    </tr>\n",
       "    <tr>\n",
       "      <th>veterans_admin_questionnaire</th>\n",
       "      <td>2084</td>\n",
       "      <td>2</td>\n",
       "      <td>No</td>\n",
       "      <td>1684</td>\n",
       "    </tr>\n",
       "    <tr>\n",
       "      <th>tax_status</th>\n",
       "      <td>209499</td>\n",
       "      <td>6</td>\n",
       "      <td>Nonfiler</td>\n",
       "      <td>78671</td>\n",
       "    </tr>\n",
       "    <tr>\n",
       "      <th>citizenship</th>\n",
       "      <td>209499</td>\n",
       "      <td>5</td>\n",
       "      <td>Native</td>\n",
       "      <td>185669</td>\n",
       "    </tr>\n",
       "    <tr>\n",
       "      <th>country_of_birth_own</th>\n",
       "      <td>209499</td>\n",
       "      <td>43</td>\n",
       "      <td>US</td>\n",
       "      <td>185666</td>\n",
       "    </tr>\n",
       "    <tr>\n",
       "      <th>country_of_birth_father</th>\n",
       "      <td>209499</td>\n",
       "      <td>43</td>\n",
       "      <td>US</td>\n",
       "      <td>166968</td>\n",
       "    </tr>\n",
       "    <tr>\n",
       "      <th>country_of_birth_mother</th>\n",
       "      <td>209499</td>\n",
       "      <td>43</td>\n",
       "      <td>US</td>\n",
       "      <td>168233</td>\n",
       "    </tr>\n",
       "    <tr>\n",
       "      <th>migration_code_change_in_msa</th>\n",
       "      <td>207911</td>\n",
       "      <td>9</td>\n",
       "      <td>?</td>\n",
       "      <td>104696</td>\n",
       "    </tr>\n",
       "    <tr>\n",
       "      <th>migration_prev_sunbelt</th>\n",
       "      <td>121047</td>\n",
       "      <td>3</td>\n",
       "      <td>?</td>\n",
       "      <td>104696</td>\n",
       "    </tr>\n",
       "    <tr>\n",
       "      <th>migration_code_move_within_reg</th>\n",
       "      <td>207911</td>\n",
       "      <td>9</td>\n",
       "      <td>?</td>\n",
       "      <td>104696</td>\n",
       "    </tr>\n",
       "    <tr>\n",
       "      <th>migration_code_change_in_reg</th>\n",
       "      <td>207911</td>\n",
       "      <td>8</td>\n",
       "      <td>?</td>\n",
       "      <td>104696</td>\n",
       "    </tr>\n",
       "    <tr>\n",
       "      <th>residence_1_year_ago</th>\n",
       "      <td>103215</td>\n",
       "      <td>2</td>\n",
       "      <td>Same</td>\n",
       "      <td>86864</td>\n",
       "    </tr>\n",
       "    <tr>\n",
       "      <th>old_residence_reg</th>\n",
       "      <td>16351</td>\n",
       "      <td>5</td>\n",
       "      <td>South</td>\n",
       "      <td>5056</td>\n",
       "    </tr>\n",
       "    <tr>\n",
       "      <th>old_residence_state</th>\n",
       "      <td>16351</td>\n",
       "      <td>50</td>\n",
       "      <td>California</td>\n",
       "      <td>1849</td>\n",
       "    </tr>\n",
       "    <tr>\n",
       "      <th>income_above_limit</th>\n",
       "      <td>209499</td>\n",
       "      <td>2</td>\n",
       "      <td>Below limit</td>\n",
       "      <td>196501</td>\n",
       "    </tr>\n",
       "  </tbody>\n",
       "</table>\n",
       "</div>"
      ],
      "text/plain": [
       "                                count   unique  \\\n",
       "ID                              209499  209499   \n",
       "gender                          209499       2   \n",
       "education                       209499      17   \n",
       "class                           104254       8   \n",
       "education_institute              13302       2   \n",
       "marital_status                  209499       7   \n",
       "race                            209499       5   \n",
       "is_hispanic                     209499      10   \n",
       "employment_commitment           209499       8   \n",
       "unemployment_reason               6520       5   \n",
       "is_labor_union                   20079       2   \n",
       "industry_code_main              209499      24   \n",
       "occupation_code_main            103805      14   \n",
       "household_stat                  209499      38   \n",
       "household_summary               209499       8   \n",
       "under_18_family                  57845       4   \n",
       "veterans_admin_questionnaire      2084       2   \n",
       "tax_status                      209499       6   \n",
       "citizenship                     209499       5   \n",
       "country_of_birth_own            209499      43   \n",
       "country_of_birth_father         209499      43   \n",
       "country_of_birth_mother         209499      43   \n",
       "migration_code_change_in_msa    207911       9   \n",
       "migration_prev_sunbelt          121047       3   \n",
       "migration_code_move_within_reg  207911       9   \n",
       "migration_code_change_in_reg    207911       8   \n",
       "residence_1_year_ago            103215       2   \n",
       "old_residence_reg                16351       5   \n",
       "old_residence_state              16351      50   \n",
       "income_above_limit              209499       2   \n",
       "\n",
       "                                             top                  freq   \n",
       "ID                                                    ID_TZ0000       1  \n",
       "gender                                                   Female  108784  \n",
       "education                                  High school graduate   50627  \n",
       "class                                                   Private   75617  \n",
       "education_institute                                 High school    7247  \n",
       "marital_status                                    Never married   90723  \n",
       "race                                                      White  175709  \n",
       "is_hispanic                                           All other  180404  \n",
       "employment_commitment                  Children or Armed Forces  129789  \n",
       "unemployment_reason                             Other job loser    2242  \n",
       "is_labor_union                                               No   16968  \n",
       "industry_code_main                  Not in universe or children  105694  \n",
       "occupation_code_main             Adm support including clerical   15351  \n",
       "household_stat                                      Householder   56195  \n",
       "household_summary                                   Householder   79470  \n",
       "under_18_family                            Both parents present   40875  \n",
       "veterans_admin_questionnaire                                 No    1684  \n",
       "tax_status                                             Nonfiler   78671  \n",
       "citizenship                                              Native  185669  \n",
       "country_of_birth_own                                         US  185666  \n",
       "country_of_birth_father                                      US  166968  \n",
       "country_of_birth_mother                                      US  168233  \n",
       "migration_code_change_in_msa                                  ?  104696  \n",
       "migration_prev_sunbelt                                        ?  104696  \n",
       "migration_code_move_within_reg                                ?  104696  \n",
       "migration_code_change_in_reg                                  ?  104696  \n",
       "residence_1_year_ago                                       Same   86864  \n",
       "old_residence_reg                                         South    5056  \n",
       "old_residence_state                                  California    1849  \n",
       "income_above_limit                                  Below limit  196501  "
      ]
     },
     "execution_count": 79,
     "metadata": {},
     "output_type": "execute_result"
    }
   ],
   "source": [
    "# Includes all data types except int and float\n",
    "df.describe(include=['O']).T"
   ]
  },
  {
   "cell_type": "code",
   "execution_count": 80,
   "id": "01d56c17",
   "metadata": {},
   "outputs": [
    {
     "name": "stdout",
     "output_type": "stream",
     "text": [
      "    All variables classified into correct types.\n"
     ]
    },
    {
     "data": {
      "text/html": [
       "<style type=\"text/css\">\n",
       "#T_d77c6_row0_col0, #T_d77c6_row0_col2, #T_d77c6_row0_col3, #T_d77c6_row0_col4, #T_d77c6_row0_col5, #T_d77c6_row1_col0, #T_d77c6_row1_col2, #T_d77c6_row1_col3, #T_d77c6_row1_col4, #T_d77c6_row1_col5, #T_d77c6_row2_col0, #T_d77c6_row2_col2, #T_d77c6_row2_col3, #T_d77c6_row2_col4, #T_d77c6_row2_col5, #T_d77c6_row3_col0, #T_d77c6_row3_col2, #T_d77c6_row3_col3, #T_d77c6_row3_col4, #T_d77c6_row3_col5, #T_d77c6_row4_col0, #T_d77c6_row4_col2, #T_d77c6_row4_col3, #T_d77c6_row4_col4, #T_d77c6_row4_col5, #T_d77c6_row5_col0, #T_d77c6_row5_col2, #T_d77c6_row5_col3, #T_d77c6_row5_col4, #T_d77c6_row5_col5, #T_d77c6_row6_col0, #T_d77c6_row6_col2, #T_d77c6_row6_col3, #T_d77c6_row6_col4, #T_d77c6_row6_col5, #T_d77c6_row7_col0, #T_d77c6_row7_col2, #T_d77c6_row7_col3, #T_d77c6_row7_col4, #T_d77c6_row7_col5, #T_d77c6_row8_col0, #T_d77c6_row8_col2, #T_d77c6_row8_col3, #T_d77c6_row8_col4, #T_d77c6_row8_col5, #T_d77c6_row9_col0, #T_d77c6_row9_col2, #T_d77c6_row9_col3, #T_d77c6_row9_col4, #T_d77c6_row9_col5, #T_d77c6_row10_col0, #T_d77c6_row10_col2, #T_d77c6_row10_col3, #T_d77c6_row10_col4, #T_d77c6_row10_col5, #T_d77c6_row11_col0, #T_d77c6_row11_col2, #T_d77c6_row11_col3, #T_d77c6_row11_col4, #T_d77c6_row11_col5, #T_d77c6_row12_col0, #T_d77c6_row12_col2, #T_d77c6_row12_col3, #T_d77c6_row12_col4, #T_d77c6_row12_col5, #T_d77c6_row13_col0, #T_d77c6_row13_col2, #T_d77c6_row13_col3, #T_d77c6_row13_col4, #T_d77c6_row13_col5, #T_d77c6_row14_col0, #T_d77c6_row14_col2, #T_d77c6_row14_col3, #T_d77c6_row14_col4, #T_d77c6_row14_col5, #T_d77c6_row15_col0, #T_d77c6_row15_col2, #T_d77c6_row15_col3, #T_d77c6_row15_col4, #T_d77c6_row15_col5, #T_d77c6_row16_col0, #T_d77c6_row16_col2, #T_d77c6_row16_col3, #T_d77c6_row16_col4, #T_d77c6_row16_col5, #T_d77c6_row17_col0, #T_d77c6_row17_col2, #T_d77c6_row17_col3, #T_d77c6_row17_col4, #T_d77c6_row17_col5, #T_d77c6_row18_col0, #T_d77c6_row18_col2, #T_d77c6_row18_col3, #T_d77c6_row18_col4, #T_d77c6_row18_col5, #T_d77c6_row19_col0, #T_d77c6_row19_col2, #T_d77c6_row19_col3, #T_d77c6_row19_col4, #T_d77c6_row19_col5, #T_d77c6_row20_col0, #T_d77c6_row20_col2, #T_d77c6_row20_col3, #T_d77c6_row20_col4, #T_d77c6_row20_col5, #T_d77c6_row21_col0, #T_d77c6_row21_col2, #T_d77c6_row21_col3, #T_d77c6_row21_col4, #T_d77c6_row21_col5, #T_d77c6_row22_col0, #T_d77c6_row22_col2, #T_d77c6_row22_col3, #T_d77c6_row22_col4, #T_d77c6_row22_col5, #T_d77c6_row23_col0, #T_d77c6_row23_col2, #T_d77c6_row23_col3, #T_d77c6_row23_col4, #T_d77c6_row23_col5, #T_d77c6_row24_col0, #T_d77c6_row24_col2, #T_d77c6_row24_col3, #T_d77c6_row24_col4, #T_d77c6_row24_col5, #T_d77c6_row25_col0, #T_d77c6_row25_col2, #T_d77c6_row25_col3, #T_d77c6_row25_col4, #T_d77c6_row25_col5, #T_d77c6_row26_col0, #T_d77c6_row26_col2, #T_d77c6_row26_col3, #T_d77c6_row26_col4, #T_d77c6_row26_col5, #T_d77c6_row27_col0, #T_d77c6_row27_col2, #T_d77c6_row27_col3, #T_d77c6_row27_col4, #T_d77c6_row27_col5, #T_d77c6_row28_col0, #T_d77c6_row28_col2, #T_d77c6_row28_col3, #T_d77c6_row28_col4, #T_d77c6_row28_col5, #T_d77c6_row29_col0, #T_d77c6_row29_col2, #T_d77c6_row29_col3, #T_d77c6_row29_col4, #T_d77c6_row29_col5, #T_d77c6_row30_col0, #T_d77c6_row30_col2, #T_d77c6_row30_col3, #T_d77c6_row30_col4, #T_d77c6_row30_col5, #T_d77c6_row31_col0, #T_d77c6_row31_col2, #T_d77c6_row31_col3, #T_d77c6_row31_col4, #T_d77c6_row31_col5, #T_d77c6_row32_col0, #T_d77c6_row32_col2, #T_d77c6_row32_col3, #T_d77c6_row32_col4, #T_d77c6_row32_col5, #T_d77c6_row33_col0, #T_d77c6_row33_col2, #T_d77c6_row33_col3, #T_d77c6_row33_col4, #T_d77c6_row33_col5, #T_d77c6_row34_col0, #T_d77c6_row34_col2, #T_d77c6_row34_col3, #T_d77c6_row34_col4, #T_d77c6_row34_col5, #T_d77c6_row35_col0, #T_d77c6_row35_col2, #T_d77c6_row35_col3, #T_d77c6_row35_col4, #T_d77c6_row35_col5, #T_d77c6_row36_col0, #T_d77c6_row36_col2, #T_d77c6_row36_col3, #T_d77c6_row36_col4, #T_d77c6_row36_col5, #T_d77c6_row37_col0, #T_d77c6_row37_col2, #T_d77c6_row37_col3, #T_d77c6_row37_col4, #T_d77c6_row37_col5, #T_d77c6_row38_col0, #T_d77c6_row38_col2, #T_d77c6_row38_col3, #T_d77c6_row38_col4, #T_d77c6_row38_col5, #T_d77c6_row39_col0, #T_d77c6_row39_col2, #T_d77c6_row39_col3, #T_d77c6_row39_col4, #T_d77c6_row39_col5, #T_d77c6_row40_col0, #T_d77c6_row40_col2, #T_d77c6_row40_col3, #T_d77c6_row40_col4, #T_d77c6_row40_col5, #T_d77c6_row41_col0, #T_d77c6_row41_col2, #T_d77c6_row41_col3, #T_d77c6_row41_col4, #T_d77c6_row41_col5, #T_d77c6_row42_col0, #T_d77c6_row42_col2, #T_d77c6_row42_col3, #T_d77c6_row42_col4, #T_d77c6_row42_col5 {\n",
       "  font-family: Segoe UI;\n",
       "}\n",
       "#T_d77c6_row0_col1, #T_d77c6_row1_col1, #T_d77c6_row2_col1, #T_d77c6_row3_col1, #T_d77c6_row6_col1, #T_d77c6_row7_col1, #T_d77c6_row8_col1, #T_d77c6_row9_col1, #T_d77c6_row11_col1, #T_d77c6_row12_col1, #T_d77c6_row14_col1, #T_d77c6_row15_col1, #T_d77c6_row16_col1, #T_d77c6_row17_col1, #T_d77c6_row19_col1, #T_d77c6_row20_col1, #T_d77c6_row21_col1, #T_d77c6_row24_col1, #T_d77c6_row25_col1, #T_d77c6_row26_col1, #T_d77c6_row27_col1, #T_d77c6_row28_col1, #T_d77c6_row29_col1, #T_d77c6_row30_col1, #T_d77c6_row31_col1, #T_d77c6_row32_col1, #T_d77c6_row33_col1, #T_d77c6_row41_col1, #T_d77c6_row42_col1 {\n",
       "  background-color: #fff5f0;\n",
       "  color: #000000;\n",
       "  font-family: Segoe UI;\n",
       "}\n",
       "#T_d77c6_row4_col1 {\n",
       "  background-color: #fa6849;\n",
       "  color: #f1f1f1;\n",
       "  font-family: Segoe UI;\n",
       "}\n",
       "#T_d77c6_row5_col1 {\n",
       "  background-color: #800610;\n",
       "  color: #f1f1f1;\n",
       "  font-family: Segoe UI;\n",
       "}\n",
       "#T_d77c6_row10_col1 {\n",
       "  background-color: #71020e;\n",
       "  color: #f1f1f1;\n",
       "  font-family: Segoe UI;\n",
       "}\n",
       "#T_d77c6_row13_col1 {\n",
       "  background-color: #920a13;\n",
       "  color: #f1f1f1;\n",
       "  font-family: Segoe UI;\n",
       "}\n",
       "#T_d77c6_row18_col1 {\n",
       "  background-color: #fa6648;\n",
       "  color: #f1f1f1;\n",
       "  font-family: Segoe UI;\n",
       "}\n",
       "#T_d77c6_row22_col1 {\n",
       "  background-color: #d01d1f;\n",
       "  color: #f1f1f1;\n",
       "  font-family: Segoe UI;\n",
       "}\n",
       "#T_d77c6_row23_col1 {\n",
       "  background-color: #67000d;\n",
       "  color: #f1f1f1;\n",
       "  font-family: Segoe UI;\n",
       "}\n",
       "#T_d77c6_row34_col1, #T_d77c6_row36_col1, #T_d77c6_row37_col1 {\n",
       "  background-color: #fff4ef;\n",
       "  color: #000000;\n",
       "  font-family: Segoe UI;\n",
       "}\n",
       "#T_d77c6_row35_col1 {\n",
       "  background-color: #fc8161;\n",
       "  color: #f1f1f1;\n",
       "  font-family: Segoe UI;\n",
       "}\n",
       "#T_d77c6_row38_col1 {\n",
       "  background-color: #fa6547;\n",
       "  color: #f1f1f1;\n",
       "  font-family: Segoe UI;\n",
       "}\n",
       "#T_d77c6_row39_col1, #T_d77c6_row40_col1 {\n",
       "  background-color: #880811;\n",
       "  color: #f1f1f1;\n",
       "  font-family: Segoe UI;\n",
       "}\n",
       "</style>\n",
       "<table id=\"T_d77c6\">\n",
       "  <thead>\n",
       "    <tr>\n",
       "      <th class=\"blank level0\" >&nbsp;</th>\n",
       "      <th id=\"T_d77c6_level0_col0\" class=\"col_heading level0 col0\" >Data Type</th>\n",
       "      <th id=\"T_d77c6_level0_col1\" class=\"col_heading level0 col1\" >Missing Values%</th>\n",
       "      <th id=\"T_d77c6_level0_col2\" class=\"col_heading level0 col2\" >Unique Values%</th>\n",
       "      <th id=\"T_d77c6_level0_col3\" class=\"col_heading level0 col3\" >Minimum Value</th>\n",
       "      <th id=\"T_d77c6_level0_col4\" class=\"col_heading level0 col4\" >Maximum Value</th>\n",
       "      <th id=\"T_d77c6_level0_col5\" class=\"col_heading level0 col5\" >DQ Issue</th>\n",
       "    </tr>\n",
       "  </thead>\n",
       "  <tbody>\n",
       "    <tr>\n",
       "      <th id=\"T_d77c6_level0_row0\" class=\"row_heading level0 row0\" >ID</th>\n",
       "      <td id=\"T_d77c6_row0_col0\" class=\"data row0 col0\" >object</td>\n",
       "      <td id=\"T_d77c6_row0_col1\" class=\"data row0 col1\" >0.000000</td>\n",
       "      <td id=\"T_d77c6_row0_col2\" class=\"data row0 col2\" >100</td>\n",
       "      <td id=\"T_d77c6_row0_col3\" class=\"data row0 col3\" ></td>\n",
       "      <td id=\"T_d77c6_row0_col4\" class=\"data row0 col4\" ></td>\n",
       "      <td id=\"T_d77c6_row0_col5\" class=\"data row0 col5\" >Possible ID column: drop before modeling step.</td>\n",
       "    </tr>\n",
       "    <tr>\n",
       "      <th id=\"T_d77c6_level0_row1\" class=\"row_heading level0 row1\" >age</th>\n",
       "      <td id=\"T_d77c6_row1_col0\" class=\"data row1 col0\" >int64</td>\n",
       "      <td id=\"T_d77c6_row1_col1\" class=\"data row1 col1\" >0.000000</td>\n",
       "      <td id=\"T_d77c6_row1_col2\" class=\"data row1 col2\" >0</td>\n",
       "      <td id=\"T_d77c6_row1_col3\" class=\"data row1 col3\" >0.000000</td>\n",
       "      <td id=\"T_d77c6_row1_col4\" class=\"data row1 col4\" >90.000000</td>\n",
       "      <td id=\"T_d77c6_row1_col5\" class=\"data row1 col5\" >No issue</td>\n",
       "    </tr>\n",
       "    <tr>\n",
       "      <th id=\"T_d77c6_level0_row2\" class=\"row_heading level0 row2\" >gender</th>\n",
       "      <td id=\"T_d77c6_row2_col0\" class=\"data row2 col0\" >object</td>\n",
       "      <td id=\"T_d77c6_row2_col1\" class=\"data row2 col1\" >0.000000</td>\n",
       "      <td id=\"T_d77c6_row2_col2\" class=\"data row2 col2\" >0</td>\n",
       "      <td id=\"T_d77c6_row2_col3\" class=\"data row2 col3\" ></td>\n",
       "      <td id=\"T_d77c6_row2_col4\" class=\"data row2 col4\" ></td>\n",
       "      <td id=\"T_d77c6_row2_col5\" class=\"data row2 col5\" >No issue</td>\n",
       "    </tr>\n",
       "    <tr>\n",
       "      <th id=\"T_d77c6_level0_row3\" class=\"row_heading level0 row3\" >education</th>\n",
       "      <td id=\"T_d77c6_row3_col0\" class=\"data row3 col0\" >object</td>\n",
       "      <td id=\"T_d77c6_row3_col1\" class=\"data row3 col1\" >0.000000</td>\n",
       "      <td id=\"T_d77c6_row3_col2\" class=\"data row3 col2\" >0</td>\n",
       "      <td id=\"T_d77c6_row3_col3\" class=\"data row3 col3\" ></td>\n",
       "      <td id=\"T_d77c6_row3_col4\" class=\"data row3 col4\" ></td>\n",
       "      <td id=\"T_d77c6_row3_col5\" class=\"data row3 col5\" >4 rare categories: [' 1st 2nd 3rd or 4th grade', ' Prof school degree (MD DDS DVM LLB JD)', ' Doctorate degree(PhD EdD)', ' Less than 1st grade']. Group them into a single category or drop the categories.</td>\n",
       "    </tr>\n",
       "    <tr>\n",
       "      <th id=\"T_d77c6_level0_row4\" class=\"row_heading level0 row4\" >class</th>\n",
       "      <td id=\"T_d77c6_row4_col0\" class=\"data row4 col0\" >object</td>\n",
       "      <td id=\"T_d77c6_row4_col1\" class=\"data row4 col1\" >50.236517</td>\n",
       "      <td id=\"T_d77c6_row4_col2\" class=\"data row4 col2\" >0</td>\n",
       "      <td id=\"T_d77c6_row4_col3\" class=\"data row4 col3\" ></td>\n",
       "      <td id=\"T_d77c6_row4_col4\" class=\"data row4 col4\" ></td>\n",
       "      <td id=\"T_d77c6_row4_col5\" class=\"data row4 col5\" >105245 missing values. Impute them with mean, median, mode, or a constant value such as 123., 2 rare categories: [' Never worked', ' Without pay']. Group them into a single category or drop the categories., Mixed dtypes: has 2 different data types:  float, object,</td>\n",
       "    </tr>\n",
       "    <tr>\n",
       "      <th id=\"T_d77c6_level0_row5\" class=\"row_heading level0 row5\" >education_institute</th>\n",
       "      <td id=\"T_d77c6_row5_col0\" class=\"data row5 col0\" >object</td>\n",
       "      <td id=\"T_d77c6_row5_col1\" class=\"data row5 col1\" >93.650566</td>\n",
       "      <td id=\"T_d77c6_row5_col2\" class=\"data row5 col2\" >0</td>\n",
       "      <td id=\"T_d77c6_row5_col3\" class=\"data row5 col3\" ></td>\n",
       "      <td id=\"T_d77c6_row5_col4\" class=\"data row5 col4\" ></td>\n",
       "      <td id=\"T_d77c6_row5_col5\" class=\"data row5 col5\" >Possible Zero-variance or low information colum: drop before modeling step., 196197 missing values. Impute them with mean, median, mode, or a constant value such as 123.</td>\n",
       "    </tr>\n",
       "    <tr>\n",
       "      <th id=\"T_d77c6_level0_row6\" class=\"row_heading level0 row6\" >marital_status</th>\n",
       "      <td id=\"T_d77c6_row6_col0\" class=\"data row6 col0\" >object</td>\n",
       "      <td id=\"T_d77c6_row6_col1\" class=\"data row6 col1\" >0.000000</td>\n",
       "      <td id=\"T_d77c6_row6_col2\" class=\"data row6 col2\" >0</td>\n",
       "      <td id=\"T_d77c6_row6_col3\" class=\"data row6 col3\" ></td>\n",
       "      <td id=\"T_d77c6_row6_col4\" class=\"data row6 col4\" ></td>\n",
       "      <td id=\"T_d77c6_row6_col5\" class=\"data row6 col5\" >2 rare categories: [' Married-spouse absent', ' Married-A F spouse present']. Group them into a single category or drop the categories.</td>\n",
       "    </tr>\n",
       "    <tr>\n",
       "      <th id=\"T_d77c6_level0_row7\" class=\"row_heading level0 row7\" >race</th>\n",
       "      <td id=\"T_d77c6_row7_col0\" class=\"data row7 col0\" >object</td>\n",
       "      <td id=\"T_d77c6_row7_col1\" class=\"data row7 col1\" >0.000000</td>\n",
       "      <td id=\"T_d77c6_row7_col2\" class=\"data row7 col2\" >0</td>\n",
       "      <td id=\"T_d77c6_row7_col3\" class=\"data row7 col3\" ></td>\n",
       "      <td id=\"T_d77c6_row7_col4\" class=\"data row7 col4\" ></td>\n",
       "      <td id=\"T_d77c6_row7_col5\" class=\"data row7 col5\" >No issue</td>\n",
       "    </tr>\n",
       "    <tr>\n",
       "      <th id=\"T_d77c6_level0_row8\" class=\"row_heading level0 row8\" >is_hispanic</th>\n",
       "      <td id=\"T_d77c6_row8_col0\" class=\"data row8 col0\" >object</td>\n",
       "      <td id=\"T_d77c6_row8_col1\" class=\"data row8 col1\" >0.000000</td>\n",
       "      <td id=\"T_d77c6_row8_col2\" class=\"data row8 col2\" >0</td>\n",
       "      <td id=\"T_d77c6_row8_col3\" class=\"data row8 col3\" ></td>\n",
       "      <td id=\"T_d77c6_row8_col4\" class=\"data row8 col4\" ></td>\n",
       "      <td id=\"T_d77c6_row8_col5\" class=\"data row8 col5\" >4 rare categories: [' Cuban', ' NA', ' Chicano', ' Do not know']. Group them into a single category or drop the categories.</td>\n",
       "    </tr>\n",
       "    <tr>\n",
       "      <th id=\"T_d77c6_level0_row9\" class=\"row_heading level0 row9\" >employment_commitment</th>\n",
       "      <td id=\"T_d77c6_row9_col0\" class=\"data row9 col0\" >object</td>\n",
       "      <td id=\"T_d77c6_row9_col1\" class=\"data row9 col1\" >0.000000</td>\n",
       "      <td id=\"T_d77c6_row9_col2\" class=\"data row9 col2\" >0</td>\n",
       "      <td id=\"T_d77c6_row9_col3\" class=\"data row9 col3\" ></td>\n",
       "      <td id=\"T_d77c6_row9_col4\" class=\"data row9 col4\" ></td>\n",
       "      <td id=\"T_d77c6_row9_col5\" class=\"data row9 col5\" >3 rare categories: [' PT for econ reasons usually PT', ' Unemployed part- time', ' PT for econ reasons usually FT']. Group them into a single category or drop the categories.</td>\n",
       "    </tr>\n",
       "    <tr>\n",
       "      <th id=\"T_d77c6_level0_row10\" class=\"row_heading level0 row10\" >unemployment_reason</th>\n",
       "      <td id=\"T_d77c6_row10_col0\" class=\"data row10 col0\" >object</td>\n",
       "      <td id=\"T_d77c6_row10_col1\" class=\"data row10 col1\" >96.887813</td>\n",
       "      <td id=\"T_d77c6_row10_col2\" class=\"data row10 col2\" >0</td>\n",
       "      <td id=\"T_d77c6_row10_col3\" class=\"data row10 col3\" ></td>\n",
       "      <td id=\"T_d77c6_row10_col4\" class=\"data row10 col4\" ></td>\n",
       "      <td id=\"T_d77c6_row10_col5\" class=\"data row10 col5\" >Possible Zero-variance or low information colum: drop before modeling step., 202979 missing values. Impute them with mean, median, mode, or a constant value such as 123.</td>\n",
       "    </tr>\n",
       "    <tr>\n",
       "      <th id=\"T_d77c6_level0_row11\" class=\"row_heading level0 row11\" >employment_stat</th>\n",
       "      <td id=\"T_d77c6_row11_col0\" class=\"data row11 col0\" >int64</td>\n",
       "      <td id=\"T_d77c6_row11_col1\" class=\"data row11 col1\" >0.000000</td>\n",
       "      <td id=\"T_d77c6_row11_col2\" class=\"data row11 col2\" >0</td>\n",
       "      <td id=\"T_d77c6_row11_col3\" class=\"data row11 col3\" >0.000000</td>\n",
       "      <td id=\"T_d77c6_row11_col4\" class=\"data row11 col4\" >2.000000</td>\n",
       "      <td id=\"T_d77c6_row11_col5\" class=\"data row11 col5\" >Column has 19943 outliers greater than upper bound (0.00) or lower than lower bound(0.00). Cap them or remove them.</td>\n",
       "    </tr>\n",
       "    <tr>\n",
       "      <th id=\"T_d77c6_level0_row12\" class=\"row_heading level0 row12\" >wage_per_hour</th>\n",
       "      <td id=\"T_d77c6_row12_col0\" class=\"data row12 col0\" >int64</td>\n",
       "      <td id=\"T_d77c6_row12_col1\" class=\"data row12 col1\" >0.000000</td>\n",
       "      <td id=\"T_d77c6_row12_col2\" class=\"data row12 col2\" >0</td>\n",
       "      <td id=\"T_d77c6_row12_col3\" class=\"data row12 col3\" >0.000000</td>\n",
       "      <td id=\"T_d77c6_row12_col4\" class=\"data row12 col4\" >9999.000000</td>\n",
       "      <td id=\"T_d77c6_row12_col5\" class=\"data row12 col5\" >Column has 11856 outliers greater than upper bound (0.00) or lower than lower bound(0.00). Cap them or remove them.</td>\n",
       "    </tr>\n",
       "    <tr>\n",
       "      <th id=\"T_d77c6_level0_row13\" class=\"row_heading level0 row13\" >is_labor_union</th>\n",
       "      <td id=\"T_d77c6_row13_col0\" class=\"data row13 col0\" >object</td>\n",
       "      <td id=\"T_d77c6_row13_col1\" class=\"data row13 col1\" >90.415706</td>\n",
       "      <td id=\"T_d77c6_row13_col2\" class=\"data row13 col2\" >0</td>\n",
       "      <td id=\"T_d77c6_row13_col3\" class=\"data row13 col3\" ></td>\n",
       "      <td id=\"T_d77c6_row13_col4\" class=\"data row13 col4\" ></td>\n",
       "      <td id=\"T_d77c6_row13_col5\" class=\"data row13 col5\" >Possible Zero-variance or low information colum: drop before modeling step., 189420 missing values. Impute them with mean, median, mode, or a constant value such as 123.</td>\n",
       "    </tr>\n",
       "    <tr>\n",
       "      <th id=\"T_d77c6_level0_row14\" class=\"row_heading level0 row14\" >working_week_per_year</th>\n",
       "      <td id=\"T_d77c6_row14_col0\" class=\"data row14 col0\" >int64</td>\n",
       "      <td id=\"T_d77c6_row14_col1\" class=\"data row14 col1\" >0.000000</td>\n",
       "      <td id=\"T_d77c6_row14_col2\" class=\"data row14 col2\" >0</td>\n",
       "      <td id=\"T_d77c6_row14_col3\" class=\"data row14 col3\" >0.000000</td>\n",
       "      <td id=\"T_d77c6_row14_col4\" class=\"data row14 col4\" >52.000000</td>\n",
       "      <td id=\"T_d77c6_row14_col5\" class=\"data row14 col5\" >No issue</td>\n",
       "    </tr>\n",
       "    <tr>\n",
       "      <th id=\"T_d77c6_level0_row15\" class=\"row_heading level0 row15\" >industry_code</th>\n",
       "      <td id=\"T_d77c6_row15_col0\" class=\"data row15 col0\" >int64</td>\n",
       "      <td id=\"T_d77c6_row15_col1\" class=\"data row15 col1\" >0.000000</td>\n",
       "      <td id=\"T_d77c6_row15_col2\" class=\"data row15 col2\" >0</td>\n",
       "      <td id=\"T_d77c6_row15_col3\" class=\"data row15 col3\" >0.000000</td>\n",
       "      <td id=\"T_d77c6_row15_col4\" class=\"data row15 col4\" >51.000000</td>\n",
       "      <td id=\"T_d77c6_row15_col5\" class=\"data row15 col5\" >No issue</td>\n",
       "    </tr>\n",
       "    <tr>\n",
       "      <th id=\"T_d77c6_level0_row16\" class=\"row_heading level0 row16\" >industry_code_main</th>\n",
       "      <td id=\"T_d77c6_row16_col0\" class=\"data row16 col0\" >object</td>\n",
       "      <td id=\"T_d77c6_row16_col1\" class=\"data row16 col1\" >0.000000</td>\n",
       "      <td id=\"T_d77c6_row16_col2\" class=\"data row16 col2\" >0</td>\n",
       "      <td id=\"T_d77c6_row16_col3\" class=\"data row16 col3\" ></td>\n",
       "      <td id=\"T_d77c6_row16_col4\" class=\"data row16 col4\" ></td>\n",
       "      <td id=\"T_d77c6_row16_col5\" class=\"data row16 col5\" >7 rare categories: [' Entertainment', ' Communications', ' Utilities and sanitary services', ' Private household services', ' Mining', ' Forestry and fisheries', ' Armed Forces']. Group them into a single category or drop the categories.</td>\n",
       "    </tr>\n",
       "    <tr>\n",
       "      <th id=\"T_d77c6_level0_row17\" class=\"row_heading level0 row17\" >occupation_code</th>\n",
       "      <td id=\"T_d77c6_row17_col0\" class=\"data row17 col0\" >int64</td>\n",
       "      <td id=\"T_d77c6_row17_col1\" class=\"data row17 col1\" >0.000000</td>\n",
       "      <td id=\"T_d77c6_row17_col2\" class=\"data row17 col2\" >0</td>\n",
       "      <td id=\"T_d77c6_row17_col3\" class=\"data row17 col3\" >0.000000</td>\n",
       "      <td id=\"T_d77c6_row17_col4\" class=\"data row17 col4\" >46.000000</td>\n",
       "      <td id=\"T_d77c6_row17_col5\" class=\"data row17 col5\" >No issue</td>\n",
       "    </tr>\n",
       "    <tr>\n",
       "      <th id=\"T_d77c6_level0_row18\" class=\"row_heading level0 row18\" >occupation_code_main</th>\n",
       "      <td id=\"T_d77c6_row18_col0\" class=\"data row18 col0\" >object</td>\n",
       "      <td id=\"T_d77c6_row18_col1\" class=\"data row18 col1\" >50.450837</td>\n",
       "      <td id=\"T_d77c6_row18_col2\" class=\"data row18 col2\" >0</td>\n",
       "      <td id=\"T_d77c6_row18_col3\" class=\"data row18 col3\" ></td>\n",
       "      <td id=\"T_d77c6_row18_col4\" class=\"data row18 col4\" ></td>\n",
       "      <td id=\"T_d77c6_row18_col5\" class=\"data row18 col5\" >105694 missing values. Impute them with mean, median, mode, or a constant value such as 123., 2 rare categories: [' Private household services', ' Armed Forces']. Group them into a single category or drop the categories., Mixed dtypes: has 2 different data types:  float, object,</td>\n",
       "    </tr>\n",
       "    <tr>\n",
       "      <th id=\"T_d77c6_level0_row19\" class=\"row_heading level0 row19\" >total_employed</th>\n",
       "      <td id=\"T_d77c6_row19_col0\" class=\"data row19 col0\" >int64</td>\n",
       "      <td id=\"T_d77c6_row19_col1\" class=\"data row19 col1\" >0.000000</td>\n",
       "      <td id=\"T_d77c6_row19_col2\" class=\"data row19 col2\" >0</td>\n",
       "      <td id=\"T_d77c6_row19_col3\" class=\"data row19 col3\" >0.000000</td>\n",
       "      <td id=\"T_d77c6_row19_col4\" class=\"data row19 col4\" >6.000000</td>\n",
       "      <td id=\"T_d77c6_row19_col5\" class=\"data row19 col5\" >No issue</td>\n",
       "    </tr>\n",
       "    <tr>\n",
       "      <th id=\"T_d77c6_level0_row20\" class=\"row_heading level0 row20\" >household_stat</th>\n",
       "      <td id=\"T_d77c6_row20_col0\" class=\"data row20 col0\" >object</td>\n",
       "      <td id=\"T_d77c6_row20_col1\" class=\"data row20 col1\" >0.000000</td>\n",
       "      <td id=\"T_d77c6_row20_col2\" class=\"data row20 col2\" >0</td>\n",
       "      <td id=\"T_d77c6_row20_col3\" class=\"data row20 col3\" ></td>\n",
       "      <td id=\"T_d77c6_row20_col4\" class=\"data row20 col4\" ></td>\n",
       "      <td id=\"T_d77c6_row20_col5\" class=\"data row20 col5\" >32 rare categories: Too many to list. Group them into a single category or drop the categories.</td>\n",
       "    </tr>\n",
       "    <tr>\n",
       "      <th id=\"T_d77c6_level0_row21\" class=\"row_heading level0 row21\" >household_summary</th>\n",
       "      <td id=\"T_d77c6_row21_col0\" class=\"data row21 col0\" >object</td>\n",
       "      <td id=\"T_d77c6_row21_col1\" class=\"data row21 col1\" >0.000000</td>\n",
       "      <td id=\"T_d77c6_row21_col2\" class=\"data row21 col2\" >0</td>\n",
       "      <td id=\"T_d77c6_row21_col3\" class=\"data row21 col3\" ></td>\n",
       "      <td id=\"T_d77c6_row21_col4\" class=\"data row21 col4\" ></td>\n",
       "      <td id=\"T_d77c6_row21_col5\" class=\"data row21 col5\" >2 rare categories: [' Group Quarters- Secondary individual', ' Child under 18 ever married']. Group them into a single category or drop the categories.</td>\n",
       "    </tr>\n",
       "    <tr>\n",
       "      <th id=\"T_d77c6_level0_row22\" class=\"row_heading level0 row22\" >under_18_family</th>\n",
       "      <td id=\"T_d77c6_row22_col0\" class=\"data row22 col0\" >object</td>\n",
       "      <td id=\"T_d77c6_row22_col1\" class=\"data row22 col1\" >72.388890</td>\n",
       "      <td id=\"T_d77c6_row22_col2\" class=\"data row22 col2\" >0</td>\n",
       "      <td id=\"T_d77c6_row22_col3\" class=\"data row22 col3\" ></td>\n",
       "      <td id=\"T_d77c6_row22_col4\" class=\"data row22 col4\" ></td>\n",
       "      <td id=\"T_d77c6_row22_col5\" class=\"data row22 col5\" >151654 missing values. Impute them with mean, median, mode, or a constant value such as 123., Mixed dtypes: has 2 different data types:  float, object,</td>\n",
       "    </tr>\n",
       "    <tr>\n",
       "      <th id=\"T_d77c6_level0_row23\" class=\"row_heading level0 row23\" >veterans_admin_questionnaire</th>\n",
       "      <td id=\"T_d77c6_row23_col0\" class=\"data row23 col0\" >object</td>\n",
       "      <td id=\"T_d77c6_row23_col1\" class=\"data row23 col1\" >99.005246</td>\n",
       "      <td id=\"T_d77c6_row23_col2\" class=\"data row23 col2\" >0</td>\n",
       "      <td id=\"T_d77c6_row23_col3\" class=\"data row23 col3\" ></td>\n",
       "      <td id=\"T_d77c6_row23_col4\" class=\"data row23 col4\" ></td>\n",
       "      <td id=\"T_d77c6_row23_col5\" class=\"data row23 col5\" >Possible Zero-variance or low information colum: drop before modeling step., 207415 missing values. Impute them with mean, median, mode, or a constant value such as 123.</td>\n",
       "    </tr>\n",
       "    <tr>\n",
       "      <th id=\"T_d77c6_level0_row24\" class=\"row_heading level0 row24\" >vet_benefit</th>\n",
       "      <td id=\"T_d77c6_row24_col0\" class=\"data row24 col0\" >int64</td>\n",
       "      <td id=\"T_d77c6_row24_col1\" class=\"data row24 col1\" >0.000000</td>\n",
       "      <td id=\"T_d77c6_row24_col2\" class=\"data row24 col2\" >0</td>\n",
       "      <td id=\"T_d77c6_row24_col3\" class=\"data row24 col3\" >0.000000</td>\n",
       "      <td id=\"T_d77c6_row24_col4\" class=\"data row24 col4\" >2.000000</td>\n",
       "      <td id=\"T_d77c6_row24_col5\" class=\"data row24 col5\" >Column has 51756 outliers greater than upper bound (2.00) or lower than lower bound(2.00). Cap them or remove them.</td>\n",
       "    </tr>\n",
       "    <tr>\n",
       "      <th id=\"T_d77c6_level0_row25\" class=\"row_heading level0 row25\" >tax_status</th>\n",
       "      <td id=\"T_d77c6_row25_col0\" class=\"data row25 col0\" >object</td>\n",
       "      <td id=\"T_d77c6_row25_col1\" class=\"data row25 col1\" >0.000000</td>\n",
       "      <td id=\"T_d77c6_row25_col2\" class=\"data row25 col2\" >0</td>\n",
       "      <td id=\"T_d77c6_row25_col3\" class=\"data row25 col3\" ></td>\n",
       "      <td id=\"T_d77c6_row25_col4\" class=\"data row25 col4\" ></td>\n",
       "      <td id=\"T_d77c6_row25_col5\" class=\"data row25 col5\" >No issue</td>\n",
       "    </tr>\n",
       "    <tr>\n",
       "      <th id=\"T_d77c6_level0_row26\" class=\"row_heading level0 row26\" >gains</th>\n",
       "      <td id=\"T_d77c6_row26_col0\" class=\"data row26 col0\" >int64</td>\n",
       "      <td id=\"T_d77c6_row26_col1\" class=\"data row26 col1\" >0.000000</td>\n",
       "      <td id=\"T_d77c6_row26_col2\" class=\"data row26 col2\" >0</td>\n",
       "      <td id=\"T_d77c6_row26_col3\" class=\"data row26 col3\" >0.000000</td>\n",
       "      <td id=\"T_d77c6_row26_col4\" class=\"data row26 col4\" >99999.000000</td>\n",
       "      <td id=\"T_d77c6_row26_col5\" class=\"data row26 col5\" >Column has 7830 outliers greater than upper bound (0.00) or lower than lower bound(0.00). Cap them or remove them.</td>\n",
       "    </tr>\n",
       "    <tr>\n",
       "      <th id=\"T_d77c6_level0_row27\" class=\"row_heading level0 row27\" >losses</th>\n",
       "      <td id=\"T_d77c6_row27_col0\" class=\"data row27 col0\" >int64</td>\n",
       "      <td id=\"T_d77c6_row27_col1\" class=\"data row27 col1\" >0.000000</td>\n",
       "      <td id=\"T_d77c6_row27_col2\" class=\"data row27 col2\" >0</td>\n",
       "      <td id=\"T_d77c6_row27_col3\" class=\"data row27 col3\" >0.000000</td>\n",
       "      <td id=\"T_d77c6_row27_col4\" class=\"data row27 col4\" >4608.000000</td>\n",
       "      <td id=\"T_d77c6_row27_col5\" class=\"data row27 col5\" >Column has 4062 outliers greater than upper bound (0.00) or lower than lower bound(0.00). Cap them or remove them.</td>\n",
       "    </tr>\n",
       "    <tr>\n",
       "      <th id=\"T_d77c6_level0_row28\" class=\"row_heading level0 row28\" >stocks_status</th>\n",
       "      <td id=\"T_d77c6_row28_col0\" class=\"data row28 col0\" >int64</td>\n",
       "      <td id=\"T_d77c6_row28_col1\" class=\"data row28 col1\" >0.000000</td>\n",
       "      <td id=\"T_d77c6_row28_col2\" class=\"data row28 col2\" >0</td>\n",
       "      <td id=\"T_d77c6_row28_col3\" class=\"data row28 col3\" >0.000000</td>\n",
       "      <td id=\"T_d77c6_row28_col4\" class=\"data row28 col4\" >99999.000000</td>\n",
       "      <td id=\"T_d77c6_row28_col5\" class=\"data row28 col5\" >Column has 22032 outliers greater than upper bound (0.00) or lower than lower bound(0.00). Cap them or remove them.</td>\n",
       "    </tr>\n",
       "    <tr>\n",
       "      <th id=\"T_d77c6_level0_row29\" class=\"row_heading level0 row29\" >citizenship</th>\n",
       "      <td id=\"T_d77c6_row29_col0\" class=\"data row29 col0\" >object</td>\n",
       "      <td id=\"T_d77c6_row29_col1\" class=\"data row29 col1\" >0.000000</td>\n",
       "      <td id=\"T_d77c6_row29_col2\" class=\"data row29 col2\" >0</td>\n",
       "      <td id=\"T_d77c6_row29_col3\" class=\"data row29 col3\" ></td>\n",
       "      <td id=\"T_d77c6_row29_col4\" class=\"data row29 col4\" ></td>\n",
       "      <td id=\"T_d77c6_row29_col5\" class=\"data row29 col5\" >2 rare categories: [' Native- Born abroad of American Parent(s)', ' Native- Born in Puerto Rico or U S Outlying']. Group them into a single category or drop the categories.</td>\n",
       "    </tr>\n",
       "    <tr>\n",
       "      <th id=\"T_d77c6_level0_row30\" class=\"row_heading level0 row30\" >mig_year</th>\n",
       "      <td id=\"T_d77c6_row30_col0\" class=\"data row30 col0\" >int64</td>\n",
       "      <td id=\"T_d77c6_row30_col1\" class=\"data row30 col1\" >0.000000</td>\n",
       "      <td id=\"T_d77c6_row30_col2\" class=\"data row30 col2\" >0</td>\n",
       "      <td id=\"T_d77c6_row30_col3\" class=\"data row30 col3\" >94.000000</td>\n",
       "      <td id=\"T_d77c6_row30_col4\" class=\"data row30 col4\" >95.000000</td>\n",
       "      <td id=\"T_d77c6_row30_col5\" class=\"data row30 col5\" >No issue</td>\n",
       "    </tr>\n",
       "    <tr>\n",
       "      <th id=\"T_d77c6_level0_row31\" class=\"row_heading level0 row31\" >country_of_birth_own</th>\n",
       "      <td id=\"T_d77c6_row31_col0\" class=\"data row31 col0\" >object</td>\n",
       "      <td id=\"T_d77c6_row31_col1\" class=\"data row31 col1\" >0.000000</td>\n",
       "      <td id=\"T_d77c6_row31_col2\" class=\"data row31 col2\" >0</td>\n",
       "      <td id=\"T_d77c6_row31_col3\" class=\"data row31 col3\" ></td>\n",
       "      <td id=\"T_d77c6_row31_col4\" class=\"data row31 col4\" ></td>\n",
       "      <td id=\"T_d77c6_row31_col5\" class=\"data row31 col5\" >40 rare categories: Too many to list. Group them into a single category or drop the categories.</td>\n",
       "    </tr>\n",
       "    <tr>\n",
       "      <th id=\"T_d77c6_level0_row32\" class=\"row_heading level0 row32\" >country_of_birth_father</th>\n",
       "      <td id=\"T_d77c6_row32_col0\" class=\"data row32 col0\" >object</td>\n",
       "      <td id=\"T_d77c6_row32_col1\" class=\"data row32 col1\" >0.000000</td>\n",
       "      <td id=\"T_d77c6_row32_col2\" class=\"data row32 col2\" >0</td>\n",
       "      <td id=\"T_d77c6_row32_col3\" class=\"data row32 col3\" ></td>\n",
       "      <td id=\"T_d77c6_row32_col4\" class=\"data row32 col4\" ></td>\n",
       "      <td id=\"T_d77c6_row32_col5\" class=\"data row32 col5\" >38 rare categories: Too many to list. Group them into a single category or drop the categories.</td>\n",
       "    </tr>\n",
       "    <tr>\n",
       "      <th id=\"T_d77c6_level0_row33\" class=\"row_heading level0 row33\" >country_of_birth_mother</th>\n",
       "      <td id=\"T_d77c6_row33_col0\" class=\"data row33 col0\" >object</td>\n",
       "      <td id=\"T_d77c6_row33_col1\" class=\"data row33 col1\" >0.000000</td>\n",
       "      <td id=\"T_d77c6_row33_col2\" class=\"data row33 col2\" >0</td>\n",
       "      <td id=\"T_d77c6_row33_col3\" class=\"data row33 col3\" ></td>\n",
       "      <td id=\"T_d77c6_row33_col4\" class=\"data row33 col4\" ></td>\n",
       "      <td id=\"T_d77c6_row33_col5\" class=\"data row33 col5\" >39 rare categories: Too many to list. Group them into a single category or drop the categories.</td>\n",
       "    </tr>\n",
       "    <tr>\n",
       "      <th id=\"T_d77c6_level0_row34\" class=\"row_heading level0 row34\" >migration_code_change_in_msa</th>\n",
       "      <td id=\"T_d77c6_row34_col0\" class=\"data row34 col0\" >object</td>\n",
       "      <td id=\"T_d77c6_row34_col1\" class=\"data row34 col1\" >0.757999</td>\n",
       "      <td id=\"T_d77c6_row34_col2\" class=\"data row34 col2\" >0</td>\n",
       "      <td id=\"T_d77c6_row34_col3\" class=\"data row34 col3\" ></td>\n",
       "      <td id=\"T_d77c6_row34_col4\" class=\"data row34 col4\" ></td>\n",
       "      <td id=\"T_d77c6_row34_col5\" class=\"data row34 col5\" >1588 missing values. Impute them with mean, median, mode, or a constant value such as 123., 5 rare categories: [' MSA to nonMSA', ' NonMSA to MSA', ' Not identifiable', ' Abroad to MSA', ' Abroad to nonMSA']. Group them into a single category or drop the categories., Mixed dtypes: has 2 different data types:  object, float,</td>\n",
       "    </tr>\n",
       "    <tr>\n",
       "      <th id=\"T_d77c6_level0_row35\" class=\"row_heading level0 row35\" >migration_prev_sunbelt</th>\n",
       "      <td id=\"T_d77c6_row35_col0\" class=\"data row35 col0\" >object</td>\n",
       "      <td id=\"T_d77c6_row35_col1\" class=\"data row35 col1\" >42.220727</td>\n",
       "      <td id=\"T_d77c6_row35_col2\" class=\"data row35 col2\" >0</td>\n",
       "      <td id=\"T_d77c6_row35_col3\" class=\"data row35 col3\" ></td>\n",
       "      <td id=\"T_d77c6_row35_col4\" class=\"data row35 col4\" ></td>\n",
       "      <td id=\"T_d77c6_row35_col5\" class=\"data row35 col5\" >88452 missing values. Impute them with mean, median, mode, or a constant value such as 123., Mixed dtypes: has 2 different data types:  object, float,</td>\n",
       "    </tr>\n",
       "    <tr>\n",
       "      <th id=\"T_d77c6_level0_row36\" class=\"row_heading level0 row36\" >migration_code_move_within_reg</th>\n",
       "      <td id=\"T_d77c6_row36_col0\" class=\"data row36 col0\" >object</td>\n",
       "      <td id=\"T_d77c6_row36_col1\" class=\"data row36 col1\" >0.757999</td>\n",
       "      <td id=\"T_d77c6_row36_col2\" class=\"data row36 col2\" >0</td>\n",
       "      <td id=\"T_d77c6_row36_col3\" class=\"data row36 col3\" ></td>\n",
       "      <td id=\"T_d77c6_row36_col4\" class=\"data row36 col4\" ></td>\n",
       "      <td id=\"T_d77c6_row36_col5\" class=\"data row36 col5\" >1588 missing values. Impute them with mean, median, mode, or a constant value such as 123., 5 rare categories: [' Different state in South', ' Different state in West', ' Different state in Midwest', ' Abroad', ' Different state in Northeast']. Group them into a single category or drop the categories., Mixed dtypes: has 2 different data types:  object, float,</td>\n",
       "    </tr>\n",
       "    <tr>\n",
       "      <th id=\"T_d77c6_level0_row37\" class=\"row_heading level0 row37\" >migration_code_change_in_reg</th>\n",
       "      <td id=\"T_d77c6_row37_col0\" class=\"data row37 col0\" >object</td>\n",
       "      <td id=\"T_d77c6_row37_col1\" class=\"data row37 col1\" >0.757999</td>\n",
       "      <td id=\"T_d77c6_row37_col2\" class=\"data row37 col2\" >0</td>\n",
       "      <td id=\"T_d77c6_row37_col3\" class=\"data row37 col3\" ></td>\n",
       "      <td id=\"T_d77c6_row37_col4\" class=\"data row37 col4\" ></td>\n",
       "      <td id=\"T_d77c6_row37_col5\" class=\"data row37 col5\" >1588 missing values. Impute them with mean, median, mode, or a constant value such as 123., 4 rare categories: [' Different region', ' Different state same division', ' Abroad', ' Different division same region']. Group them into a single category or drop the categories., Mixed dtypes: has 2 different data types:  object, float,</td>\n",
       "    </tr>\n",
       "    <tr>\n",
       "      <th id=\"T_d77c6_level0_row38\" class=\"row_heading level0 row38\" >residence_1_year_ago</th>\n",
       "      <td id=\"T_d77c6_row38_col0\" class=\"data row38 col0\" >object</td>\n",
       "      <td id=\"T_d77c6_row38_col1\" class=\"data row38 col1\" >50.732462</td>\n",
       "      <td id=\"T_d77c6_row38_col2\" class=\"data row38 col2\" >0</td>\n",
       "      <td id=\"T_d77c6_row38_col3\" class=\"data row38 col3\" ></td>\n",
       "      <td id=\"T_d77c6_row38_col4\" class=\"data row38 col4\" ></td>\n",
       "      <td id=\"T_d77c6_row38_col5\" class=\"data row38 col5\" >106284 missing values. Impute them with mean, median, mode, or a constant value such as 123., Mixed dtypes: has 2 different data types:  float, object,</td>\n",
       "    </tr>\n",
       "    <tr>\n",
       "      <th id=\"T_d77c6_level0_row39\" class=\"row_heading level0 row39\" >old_residence_reg</th>\n",
       "      <td id=\"T_d77c6_row39_col0\" class=\"data row39 col0\" >object</td>\n",
       "      <td id=\"T_d77c6_row39_col1\" class=\"data row39 col1\" >92.195189</td>\n",
       "      <td id=\"T_d77c6_row39_col2\" class=\"data row39 col2\" >0</td>\n",
       "      <td id=\"T_d77c6_row39_col3\" class=\"data row39 col3\" ></td>\n",
       "      <td id=\"T_d77c6_row39_col4\" class=\"data row39 col4\" ></td>\n",
       "      <td id=\"T_d77c6_row39_col5\" class=\"data row39 col5\" >Possible Zero-variance or low information colum: drop before modeling step., 193148 missing values. Impute them with mean, median, mode, or a constant value such as 123.</td>\n",
       "    </tr>\n",
       "    <tr>\n",
       "      <th id=\"T_d77c6_level0_row40\" class=\"row_heading level0 row40\" >old_residence_state</th>\n",
       "      <td id=\"T_d77c6_row40_col0\" class=\"data row40 col0\" >object</td>\n",
       "      <td id=\"T_d77c6_row40_col1\" class=\"data row40 col1\" >92.195189</td>\n",
       "      <td id=\"T_d77c6_row40_col2\" class=\"data row40 col2\" >0</td>\n",
       "      <td id=\"T_d77c6_row40_col3\" class=\"data row40 col3\" ></td>\n",
       "      <td id=\"T_d77c6_row40_col4\" class=\"data row40 col4\" ></td>\n",
       "      <td id=\"T_d77c6_row40_col5\" class=\"data row40 col5\" >Possible Zero-variance or low information colum: drop before modeling step., 193148 missing values. Impute them with mean, median, mode, or a constant value such as 123.</td>\n",
       "    </tr>\n",
       "    <tr>\n",
       "      <th id=\"T_d77c6_level0_row41\" class=\"row_heading level0 row41\" >importance_of_record</th>\n",
       "      <td id=\"T_d77c6_row41_col0\" class=\"data row41 col0\" >float64</td>\n",
       "      <td id=\"T_d77c6_row41_col1\" class=\"data row41 col1\" >0.000000</td>\n",
       "      <td id=\"T_d77c6_row41_col2\" class=\"data row41 col2\" >NA</td>\n",
       "      <td id=\"T_d77c6_row41_col3\" class=\"data row41 col3\" >37.870000</td>\n",
       "      <td id=\"T_d77c6_row41_col4\" class=\"data row41 col4\" >18656.300000</td>\n",
       "      <td id=\"T_d77c6_row41_col5\" class=\"data row41 col5\" >Column has 6759 outliers greater than upper bound (3871.77) or lower than lower bound(-625.00). Cap them or remove them.</td>\n",
       "    </tr>\n",
       "    <tr>\n",
       "      <th id=\"T_d77c6_level0_row42\" class=\"row_heading level0 row42\" >income_above_limit</th>\n",
       "      <td id=\"T_d77c6_row42_col0\" class=\"data row42 col0\" >object</td>\n",
       "      <td id=\"T_d77c6_row42_col1\" class=\"data row42 col1\" >0.000000</td>\n",
       "      <td id=\"T_d77c6_row42_col2\" class=\"data row42 col2\" >0</td>\n",
       "      <td id=\"T_d77c6_row42_col3\" class=\"data row42 col3\" ></td>\n",
       "      <td id=\"T_d77c6_row42_col4\" class=\"data row42 col4\" ></td>\n",
       "      <td id=\"T_d77c6_row42_col5\" class=\"data row42 col5\" >No issue</td>\n",
       "    </tr>\n",
       "  </tbody>\n",
       "</table>\n"
      ],
      "text/plain": [
       "<pandas.io.formats.style.Styler at 0x159d5d2f350>"
      ]
     },
     "metadata": {},
     "output_type": "display_data"
    },
    {
     "data": {
      "text/html": [
       "<div>\n",
       "<style scoped>\n",
       "    .dataframe tbody tr th:only-of-type {\n",
       "        vertical-align: middle;\n",
       "    }\n",
       "\n",
       "    .dataframe tbody tr th {\n",
       "        vertical-align: top;\n",
       "    }\n",
       "\n",
       "    .dataframe thead th {\n",
       "        text-align: right;\n",
       "    }\n",
       "</style>\n",
       "<table border=\"1\" class=\"dataframe\">\n",
       "  <thead>\n",
       "    <tr style=\"text-align: center;\">\n",
       "      <th></th>\n",
       "      <th>Data Type</th>\n",
       "      <th>Missing Values%</th>\n",
       "      <th>Unique Values%</th>\n",
       "      <th>Minimum Value</th>\n",
       "      <th>Maximum Value</th>\n",
       "      <th>DQ Issue</th>\n",
       "    </tr>\n",
       "  </thead>\n",
       "  <tbody>\n",
       "    <tr>\n",
       "      <th>ID</th>\n",
       "      <td>object</td>\n",
       "      <td>0.000000</td>\n",
       "      <td>100</td>\n",
       "      <td></td>\n",
       "      <td></td>\n",
       "      <td>Possible ID column: drop before modeling step.</td>\n",
       "    </tr>\n",
       "    <tr>\n",
       "      <th>age</th>\n",
       "      <td>int64</td>\n",
       "      <td>0.000000</td>\n",
       "      <td>0</td>\n",
       "      <td>0.0</td>\n",
       "      <td>90.0</td>\n",
       "      <td>No issue</td>\n",
       "    </tr>\n",
       "    <tr>\n",
       "      <th>gender</th>\n",
       "      <td>object</td>\n",
       "      <td>0.000000</td>\n",
       "      <td>0</td>\n",
       "      <td></td>\n",
       "      <td></td>\n",
       "      <td>No issue</td>\n",
       "    </tr>\n",
       "    <tr>\n",
       "      <th>education</th>\n",
       "      <td>object</td>\n",
       "      <td>0.000000</td>\n",
       "      <td>0</td>\n",
       "      <td></td>\n",
       "      <td></td>\n",
       "      <td>4 rare categories: [' 1st 2nd 3rd or 4th grade', ' Prof school degree (MD DDS DVM LLB JD)', ' Doctorate degree(PhD EdD)', ' Less than 1st grade']. Group them into a single category or drop the categories.</td>\n",
       "    </tr>\n",
       "    <tr>\n",
       "      <th>class</th>\n",
       "      <td>object</td>\n",
       "      <td>50.236517</td>\n",
       "      <td>0</td>\n",
       "      <td></td>\n",
       "      <td></td>\n",
       "      <td>105245 missing values. Impute them with mean, median, mode, or a constant value such as 123., 2 rare categories: [' Never worked', ' Without pay']. Group them into a single category or drop the categories., Mixed dtypes: has 2 different data types:  float, object,</td>\n",
       "    </tr>\n",
       "    <tr>\n",
       "      <th>education_institute</th>\n",
       "      <td>object</td>\n",
       "      <td>93.650566</td>\n",
       "      <td>0</td>\n",
       "      <td></td>\n",
       "      <td></td>\n",
       "      <td>Possible Zero-variance or low information colum: drop before modeling step., 196197 missing values. Impute them with mean, median, mode, or a constant value such as 123.</td>\n",
       "    </tr>\n",
       "    <tr>\n",
       "      <th>marital_status</th>\n",
       "      <td>object</td>\n",
       "      <td>0.000000</td>\n",
       "      <td>0</td>\n",
       "      <td></td>\n",
       "      <td></td>\n",
       "      <td>2 rare categories: [' Married-spouse absent', ' Married-A F spouse present']. Group them into a single category or drop the categories.</td>\n",
       "    </tr>\n",
       "    <tr>\n",
       "      <th>race</th>\n",
       "      <td>object</td>\n",
       "      <td>0.000000</td>\n",
       "      <td>0</td>\n",
       "      <td></td>\n",
       "      <td></td>\n",
       "      <td>No issue</td>\n",
       "    </tr>\n",
       "    <tr>\n",
       "      <th>is_hispanic</th>\n",
       "      <td>object</td>\n",
       "      <td>0.000000</td>\n",
       "      <td>0</td>\n",
       "      <td></td>\n",
       "      <td></td>\n",
       "      <td>4 rare categories: [' Cuban', ' NA', ' Chicano', ' Do not know']. Group them into a single category or drop the categories.</td>\n",
       "    </tr>\n",
       "    <tr>\n",
       "      <th>employment_commitment</th>\n",
       "      <td>object</td>\n",
       "      <td>0.000000</td>\n",
       "      <td>0</td>\n",
       "      <td></td>\n",
       "      <td></td>\n",
       "      <td>3 rare categories: [' PT for econ reasons usually PT', ' Unemployed part- time', ' PT for econ reasons usually FT']. Group them into a single category or drop the categories.</td>\n",
       "    </tr>\n",
       "    <tr>\n",
       "      <th>unemployment_reason</th>\n",
       "      <td>object</td>\n",
       "      <td>96.887813</td>\n",
       "      <td>0</td>\n",
       "      <td></td>\n",
       "      <td></td>\n",
       "      <td>Possible Zero-variance or low information colum: drop before modeling step., 202979 missing values. Impute them with mean, median, mode, or a constant value such as 123.</td>\n",
       "    </tr>\n",
       "    <tr>\n",
       "      <th>employment_stat</th>\n",
       "      <td>int64</td>\n",
       "      <td>0.000000</td>\n",
       "      <td>0</td>\n",
       "      <td>0.0</td>\n",
       "      <td>2.0</td>\n",
       "      <td>Column has 19943 outliers greater than upper bound (0.00) or lower than lower bound(0.00). Cap them or remove them.</td>\n",
       "    </tr>\n",
       "    <tr>\n",
       "      <th>wage_per_hour</th>\n",
       "      <td>int64</td>\n",
       "      <td>0.000000</td>\n",
       "      <td>0</td>\n",
       "      <td>0.0</td>\n",
       "      <td>9999.0</td>\n",
       "      <td>Column has 11856 outliers greater than upper bound (0.00) or lower than lower bound(0.00). Cap them or remove them.</td>\n",
       "    </tr>\n",
       "    <tr>\n",
       "      <th>is_labor_union</th>\n",
       "      <td>object</td>\n",
       "      <td>90.415706</td>\n",
       "      <td>0</td>\n",
       "      <td></td>\n",
       "      <td></td>\n",
       "      <td>Possible Zero-variance or low information colum: drop before modeling step., 189420 missing values. Impute them with mean, median, mode, or a constant value such as 123.</td>\n",
       "    </tr>\n",
       "    <tr>\n",
       "      <th>working_week_per_year</th>\n",
       "      <td>int64</td>\n",
       "      <td>0.000000</td>\n",
       "      <td>0</td>\n",
       "      <td>0.0</td>\n",
       "      <td>52.0</td>\n",
       "      <td>No issue</td>\n",
       "    </tr>\n",
       "    <tr>\n",
       "      <th>industry_code</th>\n",
       "      <td>int64</td>\n",
       "      <td>0.000000</td>\n",
       "      <td>0</td>\n",
       "      <td>0.0</td>\n",
       "      <td>51.0</td>\n",
       "      <td>No issue</td>\n",
       "    </tr>\n",
       "    <tr>\n",
       "      <th>industry_code_main</th>\n",
       "      <td>object</td>\n",
       "      <td>0.000000</td>\n",
       "      <td>0</td>\n",
       "      <td></td>\n",
       "      <td></td>\n",
       "      <td>7 rare categories: [' Entertainment', ' Communications', ' Utilities and sanitary services', ' Private household services', ' Mining', ' Forestry and fisheries', ' Armed Forces']. Group them into a single category or drop the categories.</td>\n",
       "    </tr>\n",
       "    <tr>\n",
       "      <th>occupation_code</th>\n",
       "      <td>int64</td>\n",
       "      <td>0.000000</td>\n",
       "      <td>0</td>\n",
       "      <td>0.0</td>\n",
       "      <td>46.0</td>\n",
       "      <td>No issue</td>\n",
       "    </tr>\n",
       "    <tr>\n",
       "      <th>occupation_code_main</th>\n",
       "      <td>object</td>\n",
       "      <td>50.450837</td>\n",
       "      <td>0</td>\n",
       "      <td></td>\n",
       "      <td></td>\n",
       "      <td>105694 missing values. Impute them with mean, median, mode, or a constant value such as 123., 2 rare categories: [' Private household services', ' Armed Forces']. Group them into a single category or drop the categories., Mixed dtypes: has 2 different data types:  float, object,</td>\n",
       "    </tr>\n",
       "    <tr>\n",
       "      <th>total_employed</th>\n",
       "      <td>int64</td>\n",
       "      <td>0.000000</td>\n",
       "      <td>0</td>\n",
       "      <td>0.0</td>\n",
       "      <td>6.0</td>\n",
       "      <td>No issue</td>\n",
       "    </tr>\n",
       "    <tr>\n",
       "      <th>household_stat</th>\n",
       "      <td>object</td>\n",
       "      <td>0.000000</td>\n",
       "      <td>0</td>\n",
       "      <td></td>\n",
       "      <td></td>\n",
       "      <td>32 rare categories: Too many to list. Group them into a single category or drop the categories.</td>\n",
       "    </tr>\n",
       "    <tr>\n",
       "      <th>household_summary</th>\n",
       "      <td>object</td>\n",
       "      <td>0.000000</td>\n",
       "      <td>0</td>\n",
       "      <td></td>\n",
       "      <td></td>\n",
       "      <td>2 rare categories: [' Group Quarters- Secondary individual', ' Child under 18 ever married']. Group them into a single category or drop the categories.</td>\n",
       "    </tr>\n",
       "    <tr>\n",
       "      <th>under_18_family</th>\n",
       "      <td>object</td>\n",
       "      <td>72.388890</td>\n",
       "      <td>0</td>\n",
       "      <td></td>\n",
       "      <td></td>\n",
       "      <td>151654 missing values. Impute them with mean, median, mode, or a constant value such as 123., Mixed dtypes: has 2 different data types:  float, object,</td>\n",
       "    </tr>\n",
       "    <tr>\n",
       "      <th>veterans_admin_questionnaire</th>\n",
       "      <td>object</td>\n",
       "      <td>99.005246</td>\n",
       "      <td>0</td>\n",
       "      <td></td>\n",
       "      <td></td>\n",
       "      <td>Possible Zero-variance or low information colum: drop before modeling step., 207415 missing values. Impute them with mean, median, mode, or a constant value such as 123.</td>\n",
       "    </tr>\n",
       "    <tr>\n",
       "      <th>vet_benefit</th>\n",
       "      <td>int64</td>\n",
       "      <td>0.000000</td>\n",
       "      <td>0</td>\n",
       "      <td>0.0</td>\n",
       "      <td>2.0</td>\n",
       "      <td>Column has 51756 outliers greater than upper bound (2.00) or lower than lower bound(2.00). Cap them or remove them.</td>\n",
       "    </tr>\n",
       "    <tr>\n",
       "      <th>tax_status</th>\n",
       "      <td>object</td>\n",
       "      <td>0.000000</td>\n",
       "      <td>0</td>\n",
       "      <td></td>\n",
       "      <td></td>\n",
       "      <td>No issue</td>\n",
       "    </tr>\n",
       "    <tr>\n",
       "      <th>gains</th>\n",
       "      <td>int64</td>\n",
       "      <td>0.000000</td>\n",
       "      <td>0</td>\n",
       "      <td>0.0</td>\n",
       "      <td>99999.0</td>\n",
       "      <td>Column has 7830 outliers greater than upper bound (0.00) or lower than lower bound(0.00). Cap them or remove them.</td>\n",
       "    </tr>\n",
       "    <tr>\n",
       "      <th>losses</th>\n",
       "      <td>int64</td>\n",
       "      <td>0.000000</td>\n",
       "      <td>0</td>\n",
       "      <td>0.0</td>\n",
       "      <td>4608.0</td>\n",
       "      <td>Column has 4062 outliers greater than upper bound (0.00) or lower than lower bound(0.00). Cap them or remove them.</td>\n",
       "    </tr>\n",
       "    <tr>\n",
       "      <th>stocks_status</th>\n",
       "      <td>int64</td>\n",
       "      <td>0.000000</td>\n",
       "      <td>0</td>\n",
       "      <td>0.0</td>\n",
       "      <td>99999.0</td>\n",
       "      <td>Column has 22032 outliers greater than upper bound (0.00) or lower than lower bound(0.00). Cap them or remove them.</td>\n",
       "    </tr>\n",
       "    <tr>\n",
       "      <th>citizenship</th>\n",
       "      <td>object</td>\n",
       "      <td>0.000000</td>\n",
       "      <td>0</td>\n",
       "      <td></td>\n",
       "      <td></td>\n",
       "      <td>2 rare categories: [' Native- Born abroad of American Parent(s)', ' Native- Born in Puerto Rico or U S Outlying']. Group them into a single category or drop the categories.</td>\n",
       "    </tr>\n",
       "    <tr>\n",
       "      <th>mig_year</th>\n",
       "      <td>int64</td>\n",
       "      <td>0.000000</td>\n",
       "      <td>0</td>\n",
       "      <td>94.0</td>\n",
       "      <td>95.0</td>\n",
       "      <td>No issue</td>\n",
       "    </tr>\n",
       "    <tr>\n",
       "      <th>country_of_birth_own</th>\n",
       "      <td>object</td>\n",
       "      <td>0.000000</td>\n",
       "      <td>0</td>\n",
       "      <td></td>\n",
       "      <td></td>\n",
       "      <td>40 rare categories: Too many to list. Group them into a single category or drop the categories.</td>\n",
       "    </tr>\n",
       "    <tr>\n",
       "      <th>country_of_birth_father</th>\n",
       "      <td>object</td>\n",
       "      <td>0.000000</td>\n",
       "      <td>0</td>\n",
       "      <td></td>\n",
       "      <td></td>\n",
       "      <td>38 rare categories: Too many to list. Group them into a single category or drop the categories.</td>\n",
       "    </tr>\n",
       "    <tr>\n",
       "      <th>country_of_birth_mother</th>\n",
       "      <td>object</td>\n",
       "      <td>0.000000</td>\n",
       "      <td>0</td>\n",
       "      <td></td>\n",
       "      <td></td>\n",
       "      <td>39 rare categories: Too many to list. Group them into a single category or drop the categories.</td>\n",
       "    </tr>\n",
       "    <tr>\n",
       "      <th>migration_code_change_in_msa</th>\n",
       "      <td>object</td>\n",
       "      <td>0.757999</td>\n",
       "      <td>0</td>\n",
       "      <td></td>\n",
       "      <td></td>\n",
       "      <td>1588 missing values. Impute them with mean, median, mode, or a constant value such as 123., 5 rare categories: [' MSA to nonMSA', ' NonMSA to MSA', ' Not identifiable', ' Abroad to MSA', ' Abroad to nonMSA']. Group them into a single category or drop the categories., Mixed dtypes: has 2 different data types:  object, float,</td>\n",
       "    </tr>\n",
       "    <tr>\n",
       "      <th>migration_prev_sunbelt</th>\n",
       "      <td>object</td>\n",
       "      <td>42.220727</td>\n",
       "      <td>0</td>\n",
       "      <td></td>\n",
       "      <td></td>\n",
       "      <td>88452 missing values. Impute them with mean, median, mode, or a constant value such as 123., Mixed dtypes: has 2 different data types:  object, float,</td>\n",
       "    </tr>\n",
       "    <tr>\n",
       "      <th>migration_code_move_within_reg</th>\n",
       "      <td>object</td>\n",
       "      <td>0.757999</td>\n",
       "      <td>0</td>\n",
       "      <td></td>\n",
       "      <td></td>\n",
       "      <td>1588 missing values. Impute them with mean, median, mode, or a constant value such as 123., 5 rare categories: [' Different state in South', ' Different state in West', ' Different state in Midwest', ' Abroad', ' Different state in Northeast']. Group them into a single category or drop the categories., Mixed dtypes: has 2 different data types:  object, float,</td>\n",
       "    </tr>\n",
       "    <tr>\n",
       "      <th>migration_code_change_in_reg</th>\n",
       "      <td>object</td>\n",
       "      <td>0.757999</td>\n",
       "      <td>0</td>\n",
       "      <td></td>\n",
       "      <td></td>\n",
       "      <td>1588 missing values. Impute them with mean, median, mode, or a constant value such as 123., 4 rare categories: [' Different region', ' Different state same division', ' Abroad', ' Different division same region']. Group them into a single category or drop the categories., Mixed dtypes: has 2 different data types:  object, float,</td>\n",
       "    </tr>\n",
       "    <tr>\n",
       "      <th>residence_1_year_ago</th>\n",
       "      <td>object</td>\n",
       "      <td>50.732462</td>\n",
       "      <td>0</td>\n",
       "      <td></td>\n",
       "      <td></td>\n",
       "      <td>106284 missing values. Impute them with mean, median, mode, or a constant value such as 123., Mixed dtypes: has 2 different data types:  float, object,</td>\n",
       "    </tr>\n",
       "    <tr>\n",
       "      <th>old_residence_reg</th>\n",
       "      <td>object</td>\n",
       "      <td>92.195189</td>\n",
       "      <td>0</td>\n",
       "      <td></td>\n",
       "      <td></td>\n",
       "      <td>Possible Zero-variance or low information colum: drop before modeling step., 193148 missing values. Impute them with mean, median, mode, or a constant value such as 123.</td>\n",
       "    </tr>\n",
       "    <tr>\n",
       "      <th>old_residence_state</th>\n",
       "      <td>object</td>\n",
       "      <td>92.195189</td>\n",
       "      <td>0</td>\n",
       "      <td></td>\n",
       "      <td></td>\n",
       "      <td>Possible Zero-variance or low information colum: drop before modeling step., 193148 missing values. Impute them with mean, median, mode, or a constant value such as 123.</td>\n",
       "    </tr>\n",
       "    <tr>\n",
       "      <th>importance_of_record</th>\n",
       "      <td>float64</td>\n",
       "      <td>0.000000</td>\n",
       "      <td>NA</td>\n",
       "      <td>37.87</td>\n",
       "      <td>18656.3</td>\n",
       "      <td>Column has 6759 outliers greater than upper bound (3871.77) or lower than lower bound(-625.00). Cap them or remove them.</td>\n",
       "    </tr>\n",
       "    <tr>\n",
       "      <th>income_above_limit</th>\n",
       "      <td>object</td>\n",
       "      <td>0.000000</td>\n",
       "      <td>0</td>\n",
       "      <td></td>\n",
       "      <td></td>\n",
       "      <td>No issue</td>\n",
       "    </tr>\n",
       "  </tbody>\n",
       "</table>\n",
       "</div>"
      ],
      "text/plain": [
       "                               Data Type  Missing Values% Unique Values%  \\\n",
       "ID                                object      0.000000          100        \n",
       "age                                int64      0.000000            0        \n",
       "gender                            object      0.000000            0        \n",
       "education                         object      0.000000            0        \n",
       "class                             object     50.236517            0        \n",
       "education_institute               object     93.650566            0        \n",
       "marital_status                    object      0.000000            0        \n",
       "race                              object      0.000000            0        \n",
       "is_hispanic                       object      0.000000            0        \n",
       "employment_commitment             object      0.000000            0        \n",
       "unemployment_reason               object     96.887813            0        \n",
       "employment_stat                    int64      0.000000            0        \n",
       "wage_per_hour                      int64      0.000000            0        \n",
       "is_labor_union                    object     90.415706            0        \n",
       "working_week_per_year              int64      0.000000            0        \n",
       "industry_code                      int64      0.000000            0        \n",
       "industry_code_main                object      0.000000            0        \n",
       "occupation_code                    int64      0.000000            0        \n",
       "occupation_code_main              object     50.450837            0        \n",
       "total_employed                     int64      0.000000            0        \n",
       "household_stat                    object      0.000000            0        \n",
       "household_summary                 object      0.000000            0        \n",
       "under_18_family                   object     72.388890            0        \n",
       "veterans_admin_questionnaire      object     99.005246            0        \n",
       "vet_benefit                        int64      0.000000            0        \n",
       "tax_status                        object      0.000000            0        \n",
       "gains                              int64      0.000000            0        \n",
       "losses                             int64      0.000000            0        \n",
       "stocks_status                      int64      0.000000            0        \n",
       "citizenship                       object      0.000000            0        \n",
       "mig_year                           int64      0.000000            0        \n",
       "country_of_birth_own              object      0.000000            0        \n",
       "country_of_birth_father           object      0.000000            0        \n",
       "country_of_birth_mother           object      0.000000            0        \n",
       "migration_code_change_in_msa      object      0.757999            0        \n",
       "migration_prev_sunbelt            object     42.220727            0        \n",
       "migration_code_move_within_reg    object      0.757999            0        \n",
       "migration_code_change_in_reg      object      0.757999            0        \n",
       "residence_1_year_ago              object     50.732462            0        \n",
       "old_residence_reg                 object     92.195189            0        \n",
       "old_residence_state               object     92.195189            0        \n",
       "importance_of_record             float64      0.000000           NA        \n",
       "income_above_limit                object      0.000000            0        \n",
       "\n",
       "                               Minimum Value Maximum Value  \\\n",
       "ID                                                           \n",
       "age                                   0.0           90.0     \n",
       "gender                                                       \n",
       "education                                                    \n",
       "class                                                        \n",
       "education_institute                                          \n",
       "marital_status                                               \n",
       "race                                                         \n",
       "is_hispanic                                                  \n",
       "employment_commitment                                        \n",
       "unemployment_reason                                          \n",
       "employment_stat                       0.0            2.0     \n",
       "wage_per_hour                         0.0         9999.0     \n",
       "is_labor_union                                               \n",
       "working_week_per_year                 0.0           52.0     \n",
       "industry_code                         0.0           51.0     \n",
       "industry_code_main                                           \n",
       "occupation_code                       0.0           46.0     \n",
       "occupation_code_main                                         \n",
       "total_employed                        0.0            6.0     \n",
       "household_stat                                               \n",
       "household_summary                                            \n",
       "under_18_family                                              \n",
       "veterans_admin_questionnaire                                 \n",
       "vet_benefit                           0.0            2.0     \n",
       "tax_status                                                   \n",
       "gains                                 0.0        99999.0     \n",
       "losses                                0.0         4608.0     \n",
       "stocks_status                         0.0        99999.0     \n",
       "citizenship                                                  \n",
       "mig_year                             94.0           95.0     \n",
       "country_of_birth_own                                         \n",
       "country_of_birth_father                                      \n",
       "country_of_birth_mother                                      \n",
       "migration_code_change_in_msa                                 \n",
       "migration_prev_sunbelt                                       \n",
       "migration_code_move_within_reg                               \n",
       "migration_code_change_in_reg                                 \n",
       "residence_1_year_ago                                         \n",
       "old_residence_reg                                            \n",
       "old_residence_state                                          \n",
       "importance_of_record                37.87        18656.3     \n",
       "income_above_limit                                           \n",
       "\n",
       "                                                                                                                                                                                                                DQ Issue                                                                                                                                                                                   \n",
       "ID                                                                                                                                                                                                                                                                                                                                                         Possible ID column: drop before modeling step.  \n",
       "age                                                                                                                                                                                                                                                                                                                                                                                              No issue  \n",
       "gender                                                                                                                                                                                                                                                                                                                                                                                           No issue  \n",
       "education                                                                                                                                                                                    4 rare categories: [' 1st 2nd 3rd or 4th grade', ' Prof school degree (MD DDS DVM LLB JD)', ' Doctorate degree(PhD EdD)', ' Less than 1st grade']. Group them into a single category or drop the categories.  \n",
       "class                                                                                                                            105245 missing values. Impute them with mean, median, mode, or a constant value such as 123., 2 rare categories: [' Never worked', ' Without pay']. Group them into a single category or drop the categories., Mixed dtypes: has 2 different data types:  float, object,  \n",
       "education_institute                                                                                                                                                                                                             Possible Zero-variance or low information colum: drop before modeling step., 196197 missing values. Impute them with mean, median, mode, or a constant value such as 123.  \n",
       "marital_status                                                                                                                                                                                                                                                    2 rare categories: [' Married-spouse absent', ' Married-A F spouse present']. Group them into a single category or drop the categories.  \n",
       "race                                                                                                                                                                                                                                                                                                                                                                                             No issue  \n",
       "is_hispanic                                                                                                                                                                                                                                                                   4 rare categories: [' Cuban', ' NA', ' Chicano', ' Do not know']. Group them into a single category or drop the categories.  \n",
       "employment_commitment                                                                                                                                                                                                      3 rare categories: [' PT for econ reasons usually PT', ' Unemployed part- time', ' PT for econ reasons usually FT']. Group them into a single category or drop the categories.  \n",
       "unemployment_reason                                                                                                                                                                                                             Possible Zero-variance or low information colum: drop before modeling step., 202979 missing values. Impute them with mean, median, mode, or a constant value such as 123.  \n",
       "employment_stat                                                                                                                                                                                                                                                                       Column has 19943 outliers greater than upper bound (0.00) or lower than lower bound(0.00). Cap them or remove them.  \n",
       "wage_per_hour                                                                                                                                                                                                                                                                         Column has 11856 outliers greater than upper bound (0.00) or lower than lower bound(0.00). Cap them or remove them.  \n",
       "is_labor_union                                                                                                                                                                                                                  Possible Zero-variance or low information colum: drop before modeling step., 189420 missing values. Impute them with mean, median, mode, or a constant value such as 123.  \n",
       "working_week_per_year                                                                                                                                                                                                                                                                                                                                                                            No issue  \n",
       "industry_code                                                                                                                                                                                                                                                                                                                                                                                    No issue  \n",
       "industry_code_main                                                                                                                                          7 rare categories: [' Entertainment', ' Communications', ' Utilities and sanitary services', ' Private household services', ' Mining', ' Forestry and fisheries', ' Armed Forces']. Group them into a single category or drop the categories.  \n",
       "occupation_code                                                                                                                                                                                                                                                                                                                                                                                  No issue  \n",
       "occupation_code_main                                                                                              105694 missing values. Impute them with mean, median, mode, or a constant value such as 123., 2 rare categories: [' Private household services', ' Armed Forces']. Group them into a single category or drop the categories., Mixed dtypes: has 2 different data types:  float, object,  \n",
       "total_employed                                                                                                                                                                                                                                                                                                                                                                                   No issue  \n",
       "household_stat                                                                                                                                                                                                                                                                                            32 rare categories: Too many to list. Group them into a single category or drop the categories.  \n",
       "household_summary                                                                                                                                                                                                                                 2 rare categories: [' Group Quarters- Secondary individual', ' Child under 18 ever married']. Group them into a single category or drop the categories.  \n",
       "under_18_family                                                                                                                                                                                                                                   151654 missing values. Impute them with mean, median, mode, or a constant value such as 123., Mixed dtypes: has 2 different data types:  float, object,  \n",
       "veterans_admin_questionnaire                                                                                                                                                                                                    Possible Zero-variance or low information colum: drop before modeling step., 207415 missing values. Impute them with mean, median, mode, or a constant value such as 123.  \n",
       "vet_benefit                                                                                                                                                                                                                                                                           Column has 51756 outliers greater than upper bound (2.00) or lower than lower bound(2.00). Cap them or remove them.  \n",
       "tax_status                                                                                                                                                                                                                                                                                                                                                                                       No issue  \n",
       "gains                                                                                                                                                                                                                                                                                  Column has 7830 outliers greater than upper bound (0.00) or lower than lower bound(0.00). Cap them or remove them.  \n",
       "losses                                                                                                                                                                                                                                                                                 Column has 4062 outliers greater than upper bound (0.00) or lower than lower bound(0.00). Cap them or remove them.  \n",
       "stocks_status                                                                                                                                                                                                                                                                         Column has 22032 outliers greater than upper bound (0.00) or lower than lower bound(0.00). Cap them or remove them.  \n",
       "citizenship                                                                                                                                                                                                                  2 rare categories: [' Native- Born abroad of American Parent(s)', ' Native- Born in Puerto Rico or U S Outlying']. Group them into a single category or drop the categories.  \n",
       "mig_year                                                                                                                                                                                                                                                                                                                                                                                         No issue  \n",
       "country_of_birth_own                                                                                                                                                                                                                                                                                      40 rare categories: Too many to list. Group them into a single category or drop the categories.  \n",
       "country_of_birth_father                                                                                                                                                                                                                                                                                   38 rare categories: Too many to list. Group them into a single category or drop the categories.  \n",
       "country_of_birth_mother                                                                                                                                                                                                                                                                                   39 rare categories: Too many to list. Group them into a single category or drop the categories.  \n",
       "migration_code_change_in_msa                                        1588 missing values. Impute them with mean, median, mode, or a constant value such as 123., 5 rare categories: [' MSA to nonMSA', ' NonMSA to MSA', ' Not identifiable', ' Abroad to MSA', ' Abroad to nonMSA']. Group them into a single category or drop the categories., Mixed dtypes: has 2 different data types:  object, float,  \n",
       "migration_prev_sunbelt                                                                                                                                                                                                                             88452 missing values. Impute them with mean, median, mode, or a constant value such as 123., Mixed dtypes: has 2 different data types:  object, float,  \n",
       "migration_code_move_within_reg  1588 missing values. Impute them with mean, median, mode, or a constant value such as 123., 5 rare categories: [' Different state in South', ' Different state in West', ' Different state in Midwest', ' Abroad', ' Different state in Northeast']. Group them into a single category or drop the categories., Mixed dtypes: has 2 different data types:  object, float,  \n",
       "migration_code_change_in_reg                                   1588 missing values. Impute them with mean, median, mode, or a constant value such as 123., 4 rare categories: [' Different region', ' Different state same division', ' Abroad', ' Different division same region']. Group them into a single category or drop the categories., Mixed dtypes: has 2 different data types:  object, float,  \n",
       "residence_1_year_ago                                                                                                                                                                                                                              106284 missing values. Impute them with mean, median, mode, or a constant value such as 123., Mixed dtypes: has 2 different data types:  float, object,  \n",
       "old_residence_reg                                                                                                                                                                                                               Possible Zero-variance or low information colum: drop before modeling step., 193148 missing values. Impute them with mean, median, mode, or a constant value such as 123.  \n",
       "old_residence_state                                                                                                                                                                                                             Possible Zero-variance or low information colum: drop before modeling step., 193148 missing values. Impute them with mean, median, mode, or a constant value such as 123.  \n",
       "importance_of_record                                                                                                                                                                                                                                                             Column has 6759 outliers greater than upper bound (3871.77) or lower than lower bound(-625.00). Cap them or remove them.  \n",
       "income_above_limit                                                                                                                                                                                                                                                                                                                                                                               No issue  "
      ]
     },
     "execution_count": 80,
     "metadata": {},
     "output_type": "execute_result"
    }
   ],
   "source": [
    "data_cleaning_suggestions(df)"
   ]
  },
  {
   "cell_type": "code",
   "execution_count": 81,
   "id": "ffb3f543",
   "metadata": {},
   "outputs": [],
   "source": [
    "df.drop(columns = ['ID','class','unemployment_reason','is_labor_union','education_institute','occupation_code_main','under_18_family','veterans_admin_questionnaire','migration_prev_sunbelt','residence_1_year_ago','old_residence_reg','old_residence_state','industry_code','occupation_code'], inplace = True)"
   ]
  },
  {
   "cell_type": "code",
   "execution_count": 82,
   "id": "f4c9fe76",
   "metadata": {},
   "outputs": [],
   "source": [
    "df = df.replace(to_replace=[' ?',' Do not know',' NA'], value=np.nan)"
   ]
  },
  {
   "cell_type": "code",
   "execution_count": 83,
   "id": "8eed72f0",
   "metadata": {},
   "outputs": [
    {
     "data": {
      "text/plain": [
       "0"
      ]
     },
     "execution_count": 83,
     "metadata": {},
     "output_type": "execute_result"
    }
   ],
   "source": [
    "index_drop = df[df.duplicated()].index\n",
    "df.drop(index = index_drop, inplace = True)\n",
    "df.duplicated().sum()"
   ]
  },
  {
   "cell_type": "code",
   "execution_count": 84,
   "id": "baf5da12",
   "metadata": {},
   "outputs": [
    {
     "data": {
      "text/plain": [
       "(204946, 29)"
      ]
     },
     "execution_count": 84,
     "metadata": {},
     "output_type": "execute_result"
    }
   ],
   "source": [
    "df.shape"
   ]
  },
  {
   "cell_type": "code",
   "execution_count": 85,
   "id": "e5e40393",
   "metadata": {},
   "outputs": [
    {
     "data": {
      "image/png": "[encoded data removed]",
      "text/plain": [
       "<Figure size 640x480 with 1 Axes>"
      ]
     },
     "metadata": {},
     "output_type": "display_data"
    }
   ],
   "source": [
    "# Capping the outliers to the lower or upper bound\n",
    "plt.boxplot(df['importance_of_record'])\n",
    "index_val = df[df['importance_of_record']> 3871.77].index\n",
    "df['importance_of_record'][index_val] = 5000"
   ]
  },
  {
   "cell_type": "code",
   "execution_count": 86,
   "id": "88d3c6cf",
   "metadata": {},
   "outputs": [
    {
     "data": {
      "image/png": "[encoded data removed]",
      "text/plain": [
       "<Figure size 640x480 with 1 Axes>"
      ]
     },
     "metadata": {},
     "output_type": "display_data"
    }
   ],
   "source": [
    "plt.boxplot(df['wage_per_hour'])\n",
    "index_val = df['wage_per_hour'][df['wage_per_hour'] > 2000].index\n",
    "df['wage_per_hour'][index_val] = 2000"
   ]
  },
  {
   "cell_type": "code",
   "execution_count": 87,
   "id": "5f3b716b",
   "metadata": {},
   "outputs": [
    {
     "data": {
      "image/png": "[encoded data removed]",
      "text/plain": [
       "<Figure size 640x480 with 1 Axes>"
      ]
     },
     "metadata": {},
     "output_type": "display_data"
    }
   ],
   "source": [
    "plt.boxplot(df['gains'])\n",
    "index_val = df['gains'][df['gains']> 10000].index\n",
    "df['gains'][index_val] = 10000"
   ]
  },
  {
   "cell_type": "code",
   "execution_count": 88,
   "id": "f6aec576",
   "metadata": {},
   "outputs": [
    {
     "data": {
      "image/png": "[encoded data removed]",
      "text/plain": [
       "<Figure size 640x480 with 1 Axes>"
      ]
     },
     "metadata": {},
     "output_type": "display_data"
    }
   ],
   "source": [
    "plt.boxplot(df['losses'])\n",
    "index_val = df['losses'][df['losses']> 500].index\n",
    "df['losses'][index_val] = 500"
   ]
  },
  {
   "cell_type": "code",
   "execution_count": 89,
   "id": "cb89b480",
   "metadata": {},
   "outputs": [
    {
     "data": {
      "image/png": "[encoded data removed]",
      "text/plain": [
       "<Figure size 640x480 with 1 Axes>"
      ]
     },
     "metadata": {},
     "output_type": "display_data"
    }
   ],
   "source": [
    "plt.boxplot(df['stocks_status'])\n",
    "index_val = df['stocks_status'][df['stocks_status']>20000].index\n",
    "df['stocks_status'][index_val] = 20000"
   ]
  },
  {
   "cell_type": "code",
   "execution_count": 90,
   "id": "09779b70",
   "metadata": {},
   "outputs": [
    {
     "data": {
      "text/plain": [
       "array([' High school graduate', ' 12th grade no diploma', ' Children',\n",
       "       ' Bachelors degree(BA AB BS)', ' 7th and 8th grade', ' 11th grade',\n",
       "       ' 9th grade', ' Masters degree(MA MS MEng MEd MSW MBA)',\n",
       "       ' 10th grade', ' Associates degree-academic program',\n",
       "       ' 5th or 6th grade', ' Some college but no degree',\n",
       "       ' Associates degree-occup /vocational'], dtype=object)"
      ]
     },
     "execution_count": 90,
     "metadata": {},
     "output_type": "execute_result"
    }
   ],
   "source": [
    "# Treating rare categories\n",
    "index_val = df['education'][df['education'].isin([' Less than 1st grade',' 1st 2nd 3rd or 4th grade']) == True].index\n",
    "df['education'][index_val] = ' 5th or 6th grade'\n",
    "\n",
    "index_val = df['education'][df['education'].isin([' Doctorate degree(PhD EdD)',' Prof school degree (MD DDS DVM LLB JD)']) == True].index\n",
    "df['education'][index_val] = ' Masters degree(MA MS MEng MEd MSW MBA)'\n",
    "df['education'].unique()"
   ]
  },
  {
   "cell_type": "code",
   "execution_count": 91,
   "id": "53e05638",
   "metadata": {},
   "outputs": [
    {
     "data": {
      "text/plain": [
       "array([' Widowed', ' Never married', 'Married', ' Divorced', ' Separated'],\n",
       "      dtype=object)"
      ]
     },
     "execution_count": 91,
     "metadata": {},
     "output_type": "execute_result"
    }
   ],
   "source": [
    "index_val = df['marital_status'][df['marital_status'].isin([' Married-spouse absent', ' Married-A F spouse present'])].index\n",
    "df['marital_status'][index_val] = ' Married-civilian spouse present'\n",
    "index_val = df['marital_status'][df['marital_status'] == ' Married-civilian spouse present'].index\n",
    "df['marital_status'][index_val] = 'Married'\n",
    "df['marital_status'].unique()\n"
   ]
  },
  {
   "cell_type": "code",
   "execution_count": 92,
   "id": "282cd330",
   "metadata": {},
   "outputs": [
    {
     "data": {
      "text/plain": [
       "array([' Not in labor force', ' Children or Armed Forces',\n",
       "       ' Full-time schedules', 'Part-time schedules',\n",
       "       ' Unemployed full-time', ' PT for non-econ reasons usually FT'],\n",
       "      dtype=object)"
      ]
     },
     "execution_count": 92,
     "metadata": {},
     "output_type": "execute_result"
    }
   ],
   "source": [
    "index_val = df['employment_commitment'][df['employment_commitment'].isin([' PT for econ reasons usually PT', ' Unemployed part- time', ' PT for econ reasons usually FT'])].index\n",
    "df['employment_commitment'][index_val] = 'Part-time schedules'\n",
    "df['employment_commitment'].unique()"
   ]
  },
  {
   "cell_type": "code",
   "execution_count": 93,
   "id": "12047053",
   "metadata": {},
   "outputs": [
    {
     "data": {
      "text/plain": [
       "array(['Unemployed or children', ' Hospital services', ' Retail trade',\n",
       "       ' Finance insurance and real estate',\n",
       "       ' Manufacturing-nondurable goods', ' Transportation',\n",
       "       ' Business and repair services', ' Medical except hospital',\n",
       "       ' Education', ' Construction', ' Manufacturing-durable goods',\n",
       "       ' Public administration', ' Agriculture',\n",
       "       ' Other professional services',\n",
       "       ' Personal services except private HH', ' Wholesale trade',\n",
       "       ' Social services'], dtype=object)"
      ]
     },
     "execution_count": 93,
     "metadata": {},
     "output_type": "execute_result"
    }
   ],
   "source": [
    "index_val = df['industry_code_main'][df['industry_code_main'].isin([' Entertainment', ' Utilities and sanitary services', ' Communications', ' Private household services', ' Mining', ' Forestry and fisheries', ' Armed Forces'])].index\n",
    "df['industry_code_main'][index_val] = ' Other professional services'\n",
    "df['industry_code_main'].unique()\n",
    "\n",
    "index_val = df['industry_code_main'][df['industry_code_main'] == ' Not in universe or children'].index\n",
    "df['industry_code_main'][index_val] = 'Unemployed or children'\n",
    "df['industry_code_main'].unique()"
   ]
  },
  {
   "cell_type": "code",
   "execution_count": 94,
   "id": "d4f72e48",
   "metadata": {},
   "outputs": [],
   "source": [
    "# Chicano is same as Mexican-American ad Cuba is part of CA\n",
    "index_val = df['is_hispanic'][df['is_hispanic'] == ' Chicano'].index\n",
    "df['is_hispanic'][index_val] = ' Mexican-American'\n",
    "\n",
    "index_val = df['is_hispanic'][df['is_hispanic'] == ' Cuban'].index\n",
    "df['is_hispanic'][index_val] = ' Central or South American'\n",
    "df['is_hispanic'].unique()\n",
    "df.drop(columns = 'household_stat', inplace = True)"
   ]
  },
  {
   "cell_type": "code",
   "execution_count": 95,
   "id": "3bfcc4e6",
   "metadata": {},
   "outputs": [
    {
     "data": {
      "text/plain": [
       "array([' Householder', ' Child 18 or older', 'Child under 18',\n",
       "       ' Spouse of householder', ' Nonrelative of householder',\n",
       "       ' Other relative of householder',\n",
       "       ' Group Quarters- Secondary individual'], dtype=object)"
      ]
     },
     "execution_count": 95,
     "metadata": {},
     "output_type": "execute_result"
    }
   ],
   "source": [
    "# household_stat is a Replica of household_summary and too many categories, hence removed it\n",
    "index_val = df['household_summary'][df['household_summary'].isin([' Child under 18 never married',' Child under 18 ever married'])].index\n",
    "df['household_summary'][index_val] = 'Child under 18'\n",
    "df['household_summary'].unique()"
   ]
  },
  {
   "cell_type": "code",
   "execution_count": 96,
   "id": "b360f100",
   "metadata": {},
   "outputs": [
    {
     "data": {
      "text/plain": [
       "array(['Native', ' Foreign born- Not a citizen of U S ',\n",
       "       ' Foreign born- U S citizen by naturalization'], dtype=object)"
      ]
     },
     "execution_count": 96,
     "metadata": {},
     "output_type": "execute_result"
    }
   ],
   "source": [
    "index_val = df['citizenship'][df['citizenship'].isin([' Native- Born abroad of American Parent(s)', ' Native- Born in Puerto Rico or U S Outlying'])].index\n",
    "df['citizenship'][index_val] = 'Native'\n",
    "df['citizenship'].unique()"
   ]
  },
  {
   "cell_type": "code",
   "execution_count": 97,
   "id": "59342790",
   "metadata": {},
   "outputs": [],
   "source": [
    "df.drop(columns = ['country_of_birth_own','country_of_birth_father','country_of_birth_mother','migration_code_change_in_msa','migration_code_move_within_reg','migration_code_change_in_reg'], inplace = True)"
   ]
  },
  {
   "cell_type": "code",
   "execution_count": 110,
   "id": "956b3008",
   "metadata": {},
   "outputs": [
    {
     "data": {
      "text/plain": [
       "age                      0\n",
       "gender                   0\n",
       "education                0\n",
       "marital_status           0\n",
       "race                     0\n",
       "is_hispanic              0\n",
       "employment_commitment    0\n",
       "employment_stat          0\n",
       "wage_per_hour            0\n",
       "working_week_per_year    0\n",
       "industry_code_main       0\n",
       "total_employed           0\n",
       "household_summary        0\n",
       "vet_benefit              0\n",
       "tax_status               0\n",
       "gains                    0\n",
       "losses                   0\n",
       "stocks_status            0\n",
       "citizenship              0\n",
       "mig_year                 0\n",
       "importance_of_record     0\n",
       "income_above_limit       0\n",
       "dtype: int64"
      ]
     },
     "execution_count": 110,
     "metadata": {},
     "output_type": "execute_result"
    }
   ],
   "source": [
    "df.isnull().sum()"
   ]
  },
  {
   "cell_type": "code",
   "execution_count": 111,
   "id": "da396172",
   "metadata": {},
   "outputs": [
    {
     "data": {
      "text/plain": [
       "(202434, 22)"
      ]
     },
     "execution_count": 111,
     "metadata": {},
     "output_type": "execute_result"
    }
   ],
   "source": [
    "df.shape"
   ]
  },
  {
   "cell_type": "code",
   "execution_count": 100,
   "id": "9407c3d0",
   "metadata": {},
   "outputs": [
    {
     "data": {
      "text/plain": [
       "age                      0\n",
       "gender                   0\n",
       "education                0\n",
       "marital_status           0\n",
       "race                     0\n",
       "is_hispanic              0\n",
       "employment_commitment    0\n",
       "employment_stat          0\n",
       "wage_per_hour            0\n",
       "working_week_per_year    0\n",
       "industry_code_main       0\n",
       "total_employed           0\n",
       "household_summary        0\n",
       "vet_benefit              0\n",
       "tax_status               0\n",
       "gains                    0\n",
       "losses                   0\n",
       "stocks_status            0\n",
       "citizenship              0\n",
       "mig_year                 0\n",
       "importance_of_record     0\n",
       "income_above_limit       0\n",
       "dtype: int64"
      ]
     },
     "execution_count": 100,
     "metadata": {},
     "output_type": "execute_result"
    }
   ],
   "source": [
    "imp = SimpleImputer(strategy = 'most_frequent')\n",
    "df_copy = df.copy()\n",
    "df = pd.DataFrame(imp.fit_transform(df),columns = df.columns).astype(df.dtypes.to_dict())\n",
    "df.isnull().sum()"
   ]
  },
  {
   "cell_type": "code",
   "execution_count": 101,
   "id": "6c13cfda",
   "metadata": {},
   "outputs": [
    {
     "data": {
      "text/plain": [
       "0"
      ]
     },
     "execution_count": 101,
     "metadata": {},
     "output_type": "execute_result"
    }
   ],
   "source": [
    "duplicate_rows = df.duplicated()\n",
    "duplicated_index = df[df.duplicated() == True].index\n",
    "df = df.drop(index = duplicated_index)\n",
    "df.duplicated().sum()"
   ]
  },
  {
   "cell_type": "code",
   "execution_count": 102,
   "id": "501ed900",
   "metadata": {},
   "outputs": [],
   "source": [
    "for col in df.describe(include = ['O']):\n",
    "    df[col] = df[col].astype('category')\n"
   ]
  },
  {
   "cell_type": "code",
   "execution_count": 112,
   "id": "30769e98",
   "metadata": {},
   "outputs": [
    {
     "name": "stdout",
     "output_type": "stream",
     "text": [
      "<class 'pandas.core.frame.DataFrame'>\n",
      "Int64Index: 202434 entries, 0 to 204945\n",
      "Data columns (total 22 columns):\n",
      " #   Column                 Non-Null Count   Dtype   \n",
      "---  ------                 --------------   -----   \n",
      " 0   age                    202434 non-null  int64   \n",
      " 1   gender                 202434 non-null  category\n",
      " 2   education              202434 non-null  category\n",
      " 3   marital_status         202434 non-null  category\n",
      " 4   race                   202434 non-null  category\n",
      " 5   is_hispanic            202434 non-null  category\n",
      " 6   employment_commitment  202434 non-null  category\n",
      " 7   employment_stat        202434 non-null  int64   \n",
      " 8   wage_per_hour          202434 non-null  int64   \n",
      " 9   working_week_per_year  202434 non-null  int64   \n",
      " 10  industry_code_main     202434 non-null  category\n",
      " 11  total_employed         202434 non-null  int64   \n",
      " 12  household_summary      202434 non-null  category\n",
      " 13  vet_benefit            202434 non-null  int64   \n",
      " 14  tax_status             202434 non-null  category\n",
      " 15  gains                  202434 non-null  int64   \n",
      " 16  losses                 202434 non-null  int64   \n",
      " 17  stocks_status          202434 non-null  int64   \n",
      " 18  citizenship            202434 non-null  category\n",
      " 19  mig_year               202434 non-null  int64   \n",
      " 20  importance_of_record   202434 non-null  float64 \n",
      " 21  income_above_limit     202434 non-null  category\n",
      "dtypes: category(11), float64(1), int64(10)\n",
      "memory usage: 20.7 MB\n"
     ]
    }
   ],
   "source": [
    "df.info()"
   ]
  },
  {
   "cell_type": "code",
   "execution_count": 113,
   "id": "288221c5",
   "metadata": {},
   "outputs": [
    {
     "data": {
      "text/plain": [
       "((202434, 21), (202434,))"
      ]
     },
     "execution_count": 113,
     "metadata": {},
     "output_type": "execute_result"
    },
    {
     "data": {
      "image/png": "[encoded data removed]",
      "text/plain": [
       "<Figure size 640x480 with 1 Axes>"
      ]
     },
     "metadata": {},
     "output_type": "display_data"
    }
   ],
   "source": [
    "# Target variable balancing\n",
    "y = df['income_above_limit']\n",
    "plt.hist(y)\n",
    "X = df.drop(columns = 'income_above_limit')\n",
    "y_or = y.copy()\n",
    "X_or = X.copy()\n",
    "\n",
    "X.shape, y.shape"
   ]
  },
  {
   "cell_type": "code",
   "execution_count": 114,
   "id": "a3d7fe7a",
   "metadata": {},
   "outputs": [
    {
     "data": {
      "text/plain": [
       "((141703, 21), (141703,))"
      ]
     },
     "execution_count": 114,
     "metadata": {},
     "output_type": "execute_result"
    }
   ],
   "source": [
    "X_train, X_test, y_train, y_test = train_test_split(X,y,test_size = 0.3, random_state =42)\n",
    "st = SMOTENC(categorical_features = [1,2,3,4,5,6,10,12,14,18])\n",
    "X_train.shape, y_train.shape\n"
   ]
  },
  {
   "cell_type": "code",
   "execution_count": 115,
   "id": "4fb4ac09",
   "metadata": {},
   "outputs": [],
   "source": [
    "X_new_train, y_new_train = st.fit_resample(X_train, y_train)"
   ]
  },
  {
   "cell_type": "code",
   "execution_count": 116,
   "id": "5b672093",
   "metadata": {},
   "outputs": [
    {
     "name": "stdout",
     "output_type": "stream",
     "text": [
      "<class 'pandas.core.frame.DataFrame'>\n",
      "RangeIndex: 265170 entries, 0 to 265169\n",
      "Data columns (total 21 columns):\n",
      " #   Column                 Non-Null Count   Dtype   \n",
      "---  ------                 --------------   -----   \n",
      " 0   age                    265170 non-null  int64   \n",
      " 1   gender                 265170 non-null  category\n",
      " 2   education              265170 non-null  category\n",
      " 3   marital_status         265170 non-null  category\n",
      " 4   race                   265170 non-null  category\n",
      " 5   is_hispanic            265170 non-null  category\n",
      " 6   employment_commitment  265170 non-null  category\n",
      " 7   employment_stat        265170 non-null  int64   \n",
      " 8   wage_per_hour          265170 non-null  int64   \n",
      " 9   working_week_per_year  265170 non-null  int64   \n",
      " 10  industry_code_main     265170 non-null  category\n",
      " 11  total_employed         265170 non-null  int64   \n",
      " 12  household_summary      265170 non-null  category\n",
      " 13  vet_benefit            265170 non-null  int64   \n",
      " 14  tax_status             265170 non-null  category\n",
      " 15  gains                  265170 non-null  int64   \n",
      " 16  losses                 265170 non-null  int64   \n",
      " 17  stocks_status          265170 non-null  int64   \n",
      " 18  citizenship            265170 non-null  category\n",
      " 19  mig_year               265170 non-null  int64   \n",
      " 20  importance_of_record   265170 non-null  float64 \n",
      "dtypes: category(10), float64(1), int64(10)\n",
      "memory usage: 24.8 MB\n"
     ]
    },
    {
     "data": {
      "image/png": "[encoded data removed]",
      "text/plain": [
       "<Figure size 640x480 with 1 Axes>"
      ]
     },
     "metadata": {},
     "output_type": "display_data"
    }
   ],
   "source": [
    "plt.hist(y_new_train)\n",
    "X_new_train.info()"
   ]
  },
  {
   "cell_type": "markdown",
   "id": "34294f5d",
   "metadata": {},
   "source": [
    "## Baseline Modeling ##"
   ]
  },
  {
   "cell_type": "code",
   "execution_count": 117,
   "id": "b83551aa",
   "metadata": {
    "tags": []
   },
   "outputs": [
    {
     "data": {
      "text/plain": [
       "array([ 1,  2,  3,  4,  5,  6, 10, 12, 14, 18], dtype=int64)"
      ]
     },
     "execution_count": 117,
     "metadata": {},
     "output_type": "execute_result"
    }
   ],
   "source": [
    "categorical_features = X_new_train.select_dtypes(include = 'category').columns\n",
    "categorical_features = X_new_train.columns.get_indexer(categorical_features)\n",
    "categorical_features\n"
   ]
  },
  {
   "cell_type": "code",
   "execution_count": 118,
   "id": "b9930907",
   "metadata": {},
   "outputs": [
    {
     "data": {
      "application/vnd.jupyter.widget-view+json": {
       "model_id": "a6fe807e16dc424bb5c074670aa16b57",
       "version_major": 2,
       "version_minor": 0
      },
      "text/plain": [
       "MetricVisualizer(layout=Layout(align_self='stretch', height='500px'))"
      ]
     },
     "metadata": {},
     "output_type": "display_data"
    },
    {
     "data": {
      "text/plain": [
       "<catboost.core.CatBoostClassifier at 0x159d249f7d0>"
      ]
     },
     "execution_count": 118,
     "metadata": {},
     "output_type": "execute_result"
    }
   ],
   "source": [
    "# Pool creation\n",
    "train_pool = Pool(X_new_train,y_new_train,categorical_features)\n",
    "test_pool = Pool(X_test,y_test, categorical_features)\n",
    "\n",
    "# If model stops before iterating up to the mentioned, then model is overfitting\n",
    "cb = CatBoostClassifier(iterations=500,max_depth=5,learning_rate=0.05,random_seed = 42,verbose = False)\n",
    "cb.fit(X_new_train,y_new_train, eval_set = test_pool, cat_features = categorical_features, use_best_model= True, early_stopping_rounds=10, plot = True)"
   ]
  },
  {
   "cell_type": "code",
   "execution_count": 119,
   "id": "bb56c419",
   "metadata": {},
   "outputs": [
    {
     "name": "stdout",
     "output_type": "stream",
     "text": [
      "BASELINE MODELING OF CATBOOST \n",
      "               precision    recall  f1-score   support\n",
      "\n",
      " Above limit       0.39      0.69      0.50      3879\n",
      " Below limit       0.98      0.93      0.95     56852\n",
      "\n",
      "    accuracy                           0.91     60731\n",
      "   macro avg       0.69      0.81      0.73     60731\n",
      "weighted avg       0.94      0.91      0.92     60731\n",
      "\n"
     ]
    }
   ],
   "source": [
    "print ('BASELINE MODELING OF CATBOOST', '\\n', skm.classification_report(y_test, cb.predict(X_test)))"
   ]
  },
  {
   "cell_type": "code",
   "execution_count": 130,
   "id": "bd32a42e",
   "metadata": {},
   "outputs": [
    {
     "data": {
      "text/plain": [
       "array([78, ' Male', ' 7th and 8th grade', 'Married', ' Black',\n",
       "       ' All other', ' Not in labor force', 0, 0, 0,\n",
       "       'Unemployed or children', 0, ' Householder', 2, ' Nonfiler', 0, 0,\n",
       "       0, 'Native', 95, 3403.54], dtype=object)"
      ]
     },
     "execution_count": 130,
     "metadata": {},
     "output_type": "execute_result"
    }
   ],
   "source": [
    "X_test.iloc[0].values"
   ]
  },
  {
   "cell_type": "code",
   "execution_count": 134,
   "id": "377787e9",
   "metadata": {},
   "outputs": [
    {
     "data": {
      "text/html": [
       "<style>#sk-container-id-7 {\n",
       "  /* Definition of color scheme common for light and dark mode */\n",
       "  --sklearn-color-text: black;\n",
       "  --sklearn-color-line: gray;\n",
       "  /* Definition of color scheme for unfitted estimators */\n",
       "  --sklearn-color-unfitted-level-0: #fff5e6;\n",
       "  --sklearn-color-unfitted-level-1: #f6e4d2;\n",
       "  --sklearn-color-unfitted-level-2: #ffe0b3;\n",
       "  --sklearn-color-unfitted-level-3: chocolate;\n",
       "  /* Definition of color scheme for fitted estimators */\n",
       "  --sklearn-color-fitted-level-0: #f0f8ff;\n",
       "  --sklearn-color-fitted-level-1: #d4ebff;\n",
       "  --sklearn-color-fitted-level-2: #b3dbfd;\n",
       "  --sklearn-color-fitted-level-3: cornflowerblue;\n",
       "\n",
       "  /* Specific color for light theme */\n",
       "  --sklearn-color-text-on-default-background: var(--sg-text-color, var(--theme-code-foreground, var(--jp-content-font-color1, black)));\n",
       "  --sklearn-color-background: var(--sg-background-color, var(--theme-background, var(--jp-layout-color0, white)));\n",
       "  --sklearn-color-border-box: var(--sg-text-color, var(--theme-code-foreground, var(--jp-content-font-color1, black)));\n",
       "  --sklearn-color-icon: #696969;\n",
       "\n",
       "  @media (prefers-color-scheme: dark) {\n",
       "    /* Redefinition of color scheme for dark theme */\n",
       "    --sklearn-color-text-on-default-background: var(--sg-text-color, var(--theme-code-foreground, var(--jp-content-font-color1, white)));\n",
       "    --sklearn-color-background: var(--sg-background-color, var(--theme-background, var(--jp-layout-color0, #111)));\n",
       "    --sklearn-color-border-box: var(--sg-text-color, var(--theme-code-foreground, var(--jp-content-font-color1, white)));\n",
       "    --sklearn-color-icon: #878787;\n",
       "  }\n",
       "}\n",
       "\n",
       "#sk-container-id-7 {\n",
       "  color: var(--sklearn-color-text);\n",
       "}\n",
       "\n",
       "#sk-container-id-7 pre {\n",
       "  padding: 0;\n",
       "}\n",
       "\n",
       "#sk-container-id-7 input.sk-hidden--visually {\n",
       "  border: 0;\n",
       "  clip: rect(1px 1px 1px 1px);\n",
       "  clip: rect(1px, 1px, 1px, 1px);\n",
       "  height: 1px;\n",
       "  margin: -1px;\n",
       "  overflow: hidden;\n",
       "  padding: 0;\n",
       "  position: absolute;\n",
       "  width: 1px;\n",
       "}\n",
       "\n",
       "#sk-container-id-7 div.sk-dashed-wrapped {\n",
       "  border: 1px dashed var(--sklearn-color-line);\n",
       "  margin: 0 0.4em 0.5em 0.4em;\n",
       "  box-sizing: border-box;\n",
       "  padding-bottom: 0.4em;\n",
       "  background-color: var(--sklearn-color-background);\n",
       "}\n",
       "\n",
       "#sk-container-id-7 div.sk-container {\n",
       "  /* jupyter's `normalize.less` sets `[hidden] { display: none; }`\n",
       "     but bootstrap.min.css set `[hidden] { display: none !important; }`\n",
       "     so we also need the `!important` here to be able to override the\n",
       "     default hidden behavior on the sphinx rendered scikit-learn.org.\n",
       "     See: https://github.com/scikit-learn/scikit-learn/issues/21755 */\n",
       "  display: inline-block !important;\n",
       "  position: relative;\n",
       "}\n",
       "\n",
       "#sk-container-id-7 div.sk-text-repr-fallback {\n",
       "  display: none;\n",
       "}\n",
       "\n",
       "div.sk-parallel-item,\n",
       "div.sk-serial,\n",
       "div.sk-item {\n",
       "  /* draw centered vertical line to link estimators */\n",
       "  background-image: linear-gradient(var(--sklearn-color-text-on-default-background), var(--sklearn-color-text-on-default-background));\n",
       "  background-size: 2px 100%;\n",
       "  background-repeat: no-repeat;\n",
       "  background-position: center center;\n",
       "}\n",
       "\n",
       "/* Parallel-specific style estimator block */\n",
       "\n",
       "#sk-container-id-7 div.sk-parallel-item::after {\n",
       "  content: \"\";\n",
       "  width: 100%;\n",
       "  border-bottom: 2px solid var(--sklearn-color-text-on-default-background);\n",
       "  flex-grow: 1;\n",
       "}\n",
       "\n",
       "#sk-container-id-7 div.sk-parallel {\n",
       "  display: flex;\n",
       "  align-items: stretch;\n",
       "  justify-content: center;\n",
       "  background-color: var(--sklearn-color-background);\n",
       "  position: relative;\n",
       "}\n",
       "\n",
       "#sk-container-id-7 div.sk-parallel-item {\n",
       "  display: flex;\n",
       "  flex-direction: column;\n",
       "}\n",
       "\n",
       "#sk-container-id-7 div.sk-parallel-item:first-child::after {\n",
       "  align-self: flex-end;\n",
       "  width: 50%;\n",
       "}\n",
       "\n",
       "#sk-container-id-7 div.sk-parallel-item:last-child::after {\n",
       "  align-self: flex-start;\n",
       "  width: 50%;\n",
       "}\n",
       "\n",
       "#sk-container-id-7 div.sk-parallel-item:only-child::after {\n",
       "  width: 0;\n",
       "}\n",
       "\n",
       "/* Serial-specific style estimator block */\n",
       "\n",
       "#sk-container-id-7 div.sk-serial {\n",
       "  display: flex;\n",
       "  flex-direction: column;\n",
       "  align-items: center;\n",
       "  background-color: var(--sklearn-color-background);\n",
       "  padding-right: 1em;\n",
       "  padding-left: 1em;\n",
       "}\n",
       "\n",
       "\n",
       "/* Toggleable style: style used for estimator/Pipeline/ColumnTransformer box that is\n",
       "clickable and can be expanded/collapsed.\n",
       "- Pipeline and ColumnTransformer use this feature and define the default style\n",
       "- Estimators will overwrite some part of the style using the `sk-estimator` class\n",
       "*/\n",
       "\n",
       "/* Pipeline and ColumnTransformer style (default) */\n",
       "\n",
       "#sk-container-id-7 div.sk-toggleable {\n",
       "  /* Default theme specific background. It is overwritten whether we have a\n",
       "  specific estimator or a Pipeline/ColumnTransformer */\n",
       "  background-color: var(--sklearn-color-background);\n",
       "}\n",
       "\n",
       "/* Toggleable label */\n",
       "#sk-container-id-7 label.sk-toggleable__label {\n",
       "  cursor: pointer;\n",
       "  display: block;\n",
       "  width: 100%;\n",
       "  margin-bottom: 0;\n",
       "  padding: 0.5em;\n",
       "  box-sizing: border-box;\n",
       "  text-align: center;\n",
       "}\n",
       "\n",
       "#sk-container-id-7 label.sk-toggleable__label-arrow:before {\n",
       "  /* Arrow on the left of the label */\n",
       "  content: \"▸\";\n",
       "  float: left;\n",
       "  margin-right: 0.25em;\n",
       "  color: var(--sklearn-color-icon);\n",
       "}\n",
       "\n",
       "#sk-container-id-7 label.sk-toggleable__label-arrow:hover:before {\n",
       "  color: var(--sklearn-color-text);\n",
       "}\n",
       "\n",
       "/* Toggleable content - dropdown */\n",
       "\n",
       "#sk-container-id-7 div.sk-toggleable__content {\n",
       "  max-height: 0;\n",
       "  max-width: 0;\n",
       "  overflow: hidden;\n",
       "  text-align: left;\n",
       "  /* unfitted */\n",
       "  background-color: var(--sklearn-color-unfitted-level-0);\n",
       "}\n",
       "\n",
       "#sk-container-id-7 div.sk-toggleable__content.fitted {\n",
       "  /* fitted */\n",
       "  background-color: var(--sklearn-color-fitted-level-0);\n",
       "}\n",
       "\n",
       "#sk-container-id-7 div.sk-toggleable__content pre {\n",
       "  margin: 0.2em;\n",
       "  border-radius: 0.25em;\n",
       "  color: var(--sklearn-color-text);\n",
       "  /* unfitted */\n",
       "  background-color: var(--sklearn-color-unfitted-level-0);\n",
       "}\n",
       "\n",
       "#sk-container-id-7 div.sk-toggleable__content.fitted pre {\n",
       "  /* unfitted */\n",
       "  background-color: var(--sklearn-color-fitted-level-0);\n",
       "}\n",
       "\n",
       "#sk-container-id-7 input.sk-toggleable__control:checked~div.sk-toggleable__content {\n",
       "  /* Expand drop-down */\n",
       "  max-height: 200px;\n",
       "  max-width: 100%;\n",
       "  overflow: auto;\n",
       "}\n",
       "\n",
       "#sk-container-id-7 input.sk-toggleable__control:checked~label.sk-toggleable__label-arrow:before {\n",
       "  content: \"▾\";\n",
       "}\n",
       "\n",
       "/* Pipeline/ColumnTransformer-specific style */\n",
       "\n",
       "#sk-container-id-7 div.sk-label input.sk-toggleable__control:checked~label.sk-toggleable__label {\n",
       "  color: var(--sklearn-color-text);\n",
       "  background-color: var(--sklearn-color-unfitted-level-2);\n",
       "}\n",
       "\n",
       "#sk-container-id-7 div.sk-label.fitted input.sk-toggleable__control:checked~label.sk-toggleable__label {\n",
       "  background-color: var(--sklearn-color-fitted-level-2);\n",
       "}\n",
       "\n",
       "/* Estimator-specific style */\n",
       "\n",
       "/* Colorize estimator box */\n",
       "#sk-container-id-7 div.sk-estimator input.sk-toggleable__control:checked~label.sk-toggleable__label {\n",
       "  /* unfitted */\n",
       "  background-color: var(--sklearn-color-unfitted-level-2);\n",
       "}\n",
       "\n",
       "#sk-container-id-7 div.sk-estimator.fitted input.sk-toggleable__control:checked~label.sk-toggleable__label {\n",
       "  /* fitted */\n",
       "  background-color: var(--sklearn-color-fitted-level-2);\n",
       "}\n",
       "\n",
       "#sk-container-id-7 div.sk-label label.sk-toggleable__label,\n",
       "#sk-container-id-7 div.sk-label label {\n",
       "  /* The background is the default theme color */\n",
       "  color: var(--sklearn-color-text-on-default-background);\n",
       "}\n",
       "\n",
       "/* On hover, darken the color of the background */\n",
       "#sk-container-id-7 div.sk-label:hover label.sk-toggleable__label {\n",
       "  color: var(--sklearn-color-text);\n",
       "  background-color: var(--sklearn-color-unfitted-level-2);\n",
       "}\n",
       "\n",
       "/* Label box, darken color on hover, fitted */\n",
       "#sk-container-id-7 div.sk-label.fitted:hover label.sk-toggleable__label.fitted {\n",
       "  color: var(--sklearn-color-text);\n",
       "  background-color: var(--sklearn-color-fitted-level-2);\n",
       "}\n",
       "\n",
       "/* Estimator label */\n",
       "\n",
       "#sk-container-id-7 div.sk-label label {\n",
       "  font-family: monospace;\n",
       "  font-weight: bold;\n",
       "  display: inline-block;\n",
       "  line-height: 1.2em;\n",
       "}\n",
       "\n",
       "#sk-container-id-7 div.sk-label-container {\n",
       "  text-align: center;\n",
       "}\n",
       "\n",
       "/* Estimator-specific */\n",
       "#sk-container-id-7 div.sk-estimator {\n",
       "  font-family: monospace;\n",
       "  border: 1px dotted var(--sklearn-color-border-box);\n",
       "  border-radius: 0.25em;\n",
       "  box-sizing: border-box;\n",
       "  margin-bottom: 0.5em;\n",
       "  /* unfitted */\n",
       "  background-color: var(--sklearn-color-unfitted-level-0);\n",
       "}\n",
       "\n",
       "#sk-container-id-7 div.sk-estimator.fitted {\n",
       "  /* fitted */\n",
       "  background-color: var(--sklearn-color-fitted-level-0);\n",
       "}\n",
       "\n",
       "/* on hover */\n",
       "#sk-container-id-7 div.sk-estimator:hover {\n",
       "  /* unfitted */\n",
       "  background-color: var(--sklearn-color-unfitted-level-2);\n",
       "}\n",
       "\n",
       "#sk-container-id-7 div.sk-estimator.fitted:hover {\n",
       "  /* fitted */\n",
       "  background-color: var(--sklearn-color-fitted-level-2);\n",
       "}\n",
       "\n",
       "/* Specification for estimator info (e.g. \"i\" and \"?\") */\n",
       "\n",
       "/* Common style for \"i\" and \"?\" */\n",
       "\n",
       ".sk-estimator-doc-link,\n",
       "a:link.sk-estimator-doc-link,\n",
       "a:visited.sk-estimator-doc-link {\n",
       "  float: right;\n",
       "  font-size: smaller;\n",
       "  line-height: 1em;\n",
       "  font-family: monospace;\n",
       "  background-color: var(--sklearn-color-background);\n",
       "  border-radius: 1em;\n",
       "  height: 1em;\n",
       "  width: 1em;\n",
       "  text-decoration: none !important;\n",
       "  margin-left: 1ex;\n",
       "  /* unfitted */\n",
       "  border: var(--sklearn-color-unfitted-level-1) 1pt solid;\n",
       "  color: var(--sklearn-color-unfitted-level-1);\n",
       "}\n",
       "\n",
       ".sk-estimator-doc-link.fitted,\n",
       "a:link.sk-estimator-doc-link.fitted,\n",
       "a:visited.sk-estimator-doc-link.fitted {\n",
       "  /* fitted */\n",
       "  border: var(--sklearn-color-fitted-level-1) 1pt solid;\n",
       "  color: var(--sklearn-color-fitted-level-1);\n",
       "}\n",
       "\n",
       "/* On hover */\n",
       "div.sk-estimator:hover .sk-estimator-doc-link:hover,\n",
       ".sk-estimator-doc-link:hover,\n",
       "div.sk-label-container:hover .sk-estimator-doc-link:hover,\n",
       ".sk-estimator-doc-link:hover {\n",
       "  /* unfitted */\n",
       "  background-color: var(--sklearn-color-unfitted-level-3);\n",
       "  color: var(--sklearn-color-background);\n",
       "  text-decoration: none;\n",
       "}\n",
       "\n",
       "div.sk-estimator.fitted:hover .sk-estimator-doc-link.fitted:hover,\n",
       ".sk-estimator-doc-link.fitted:hover,\n",
       "div.sk-label-container:hover .sk-estimator-doc-link.fitted:hover,\n",
       ".sk-estimator-doc-link.fitted:hover {\n",
       "  /* fitted */\n",
       "  background-color: var(--sklearn-color-fitted-level-3);\n",
       "  color: var(--sklearn-color-background);\n",
       "  text-decoration: none;\n",
       "}\n",
       "\n",
       "/* Span, style for the box shown on hovering the info icon */\n",
       ".sk-estimator-doc-link span {\n",
       "  display: none;\n",
       "  z-index: 9999;\n",
       "  position: relative;\n",
       "  font-weight: normal;\n",
       "  right: .2ex;\n",
       "  padding: .5ex;\n",
       "  margin: .5ex;\n",
       "  width: min-content;\n",
       "  min-width: 20ex;\n",
       "  max-width: 50ex;\n",
       "  color: var(--sklearn-color-text);\n",
       "  box-shadow: 2pt 2pt 4pt #999;\n",
       "  /* unfitted */\n",
       "  background: var(--sklearn-color-unfitted-level-0);\n",
       "  border: .5pt solid var(--sklearn-color-unfitted-level-3);\n",
       "}\n",
       "\n",
       ".sk-estimator-doc-link.fitted span {\n",
       "  /* fitted */\n",
       "  background: var(--sklearn-color-fitted-level-0);\n",
       "  border: var(--sklearn-color-fitted-level-3);\n",
       "}\n",
       "\n",
       ".sk-estimator-doc-link:hover span {\n",
       "  display: block;\n",
       "}\n",
       "\n",
       "/* \"?\"-specific style due to the `<a>` HTML tag */\n",
       "\n",
       "#sk-container-id-7 a.estimator_doc_link {\n",
       "  float: right;\n",
       "  font-size: 1rem;\n",
       "  line-height: 1em;\n",
       "  font-family: monospace;\n",
       "  background-color: var(--sklearn-color-background);\n",
       "  border-radius: 1rem;\n",
       "  height: 1rem;\n",
       "  width: 1rem;\n",
       "  text-decoration: none;\n",
       "  /* unfitted */\n",
       "  color: var(--sklearn-color-unfitted-level-1);\n",
       "  border: var(--sklearn-color-unfitted-level-1) 1pt solid;\n",
       "}\n",
       "\n",
       "#sk-container-id-7 a.estimator_doc_link.fitted {\n",
       "  /* fitted */\n",
       "  border: var(--sklearn-color-fitted-level-1) 1pt solid;\n",
       "  color: var(--sklearn-color-fitted-level-1);\n",
       "}\n",
       "\n",
       "/* On hover */\n",
       "#sk-container-id-7 a.estimator_doc_link:hover {\n",
       "  /* unfitted */\n",
       "  background-color: var(--sklearn-color-unfitted-level-3);\n",
       "  color: var(--sklearn-color-background);\n",
       "  text-decoration: none;\n",
       "}\n",
       "\n",
       "#sk-container-id-7 a.estimator_doc_link.fitted:hover {\n",
       "  /* fitted */\n",
       "  background-color: var(--sklearn-color-fitted-level-3);\n",
       "}\n",
       "</style><div id=\"sk-container-id-7\" class=\"sk-top-container\"><div class=\"sk-text-repr-fallback\"><pre>XGBClassifier(base_score=0.5, booster=&#x27;gbtree&#x27;, callbacks=None,\n",
       "              colsample_bylevel=1, colsample_bynode=1, colsample_bytree=1,\n",
       "              early_stopping_rounds=None, enable_categorical=True,\n",
       "              eval_metric=None, gamma=0, gpu_id=-1, grow_policy=&#x27;depthwise&#x27;,\n",
       "              importance_type=None, interaction_constraints=&#x27;&#x27;,\n",
       "              learning_rate=0.300000012, max_bin=256, max_cat_to_onehot=4,\n",
       "              max_delta_step=0, max_depth=6, max_leaves=0, min_child_weight=1,\n",
       "              missing=nan, monotone_constraints=&#x27;()&#x27;, n_estimators=100,\n",
       "              n_jobs=0, num_parallel_tree=1, predictor=&#x27;auto&#x27;, random_state=0,\n",
       "              reg_alpha=0, reg_lambda=1, ...)</pre><b>In a Jupyter environment, please rerun this cell to show the HTML representation or trust the notebook. <br />On GitHub, the HTML representation is unable to render, please try loading this page with nbviewer.org.</b></div><div class=\"sk-container\" hidden><div class=\"sk-item\"><div class=\"sk-estimator fitted sk-toggleable\"><input class=\"sk-toggleable__control sk-hidden--visually\" id=\"sk-estimator-id-7\" type=\"checkbox\" checked><label for=\"sk-estimator-id-7\" class=\"sk-toggleable__label fitted sk-toggleable__label-arrow fitted\">&nbsp;XGBClassifier<span class=\"sk-estimator-doc-link fitted\">i<span>Fitted</span></span></label><div class=\"sk-toggleable__content fitted\"><pre>XGBClassifier(base_score=0.5, booster=&#x27;gbtree&#x27;, callbacks=None,\n",
       "              colsample_bylevel=1, colsample_bynode=1, colsample_bytree=1,\n",
       "              early_stopping_rounds=None, enable_categorical=True,\n",
       "              eval_metric=None, gamma=0, gpu_id=-1, grow_policy=&#x27;depthwise&#x27;,\n",
       "              importance_type=None, interaction_constraints=&#x27;&#x27;,\n",
       "              learning_rate=0.300000012, max_bin=256, max_cat_to_onehot=4,\n",
       "              max_delta_step=0, max_depth=6, max_leaves=0, min_child_weight=1,\n",
       "              missing=nan, monotone_constraints=&#x27;()&#x27;, n_estimators=100,\n",
       "              n_jobs=0, num_parallel_tree=1, predictor=&#x27;auto&#x27;, random_state=0,\n",
       "              reg_alpha=0, reg_lambda=1, ...)</pre></div> </div></div></div></div>"
      ],
      "text/plain": [
       "XGBClassifier(base_score=0.5, booster='gbtree', callbacks=None,\n",
       "              colsample_bylevel=1, colsample_bynode=1, colsample_bytree=1,\n",
       "              early_stopping_rounds=None, enable_categorical=True,\n",
       "              eval_metric=None, gamma=0, gpu_id=-1, grow_policy='depthwise',\n",
       "              importance_type=None, interaction_constraints='',\n",
       "              learning_rate=0.300000012, max_bin=256, max_cat_to_onehot=4,\n",
       "              max_delta_step=0, max_depth=6, max_leaves=0, min_child_weight=1,\n",
       "              missing=nan, monotone_constraints='()', n_estimators=100,\n",
       "              n_jobs=0, num_parallel_tree=1, predictor='auto', random_state=0,\n",
       "              reg_alpha=0, reg_lambda=1, ...)"
      ]
     },
     "execution_count": 134,
     "metadata": {},
     "output_type": "execute_result"
    }
   ],
   "source": [
    "# Encoding target for xgboost, even though it supports categorical (w/o encoding) only for df, and not df.index.values or arrays\n",
    "label = LabelEncoder()\n",
    "y_train_encoded = label.fit_transform(y_new_train)\n",
    "y_test_encoded = label.fit_transform(y_test)\n",
    "encode = ce.OrdinalEncoder()\n",
    "X_train_encoded = encode.fit_transform(X_new_train)\n",
    "X_test_encoded = encode.fit_transform(X_test)\n",
    "\n",
    "# enable_categorical is available only for hist and approx tree methods, approx gave slightly better precision and recall than hist\n",
    "xgb = XGBClassifier(tree_method = 'approx', enable_categorical = True)\n",
    "xgb.fit(X_train_encoded,y_train_encoded,eval_metric = 'logloss')"
   ]
  },
  {
   "cell_type": "code",
   "execution_count": 135,
   "id": "e29b9e97",
   "metadata": {},
   "outputs": [
    {
     "name": "stdout",
     "output_type": "stream",
     "text": [
      "BASELINE MODELING OF XGBOOST \n",
      "               precision    recall  f1-score   support\n",
      "\n",
      "           0       0.14      0.41      0.21      3879\n",
      "           1       0.95      0.83      0.89     56852\n",
      "\n",
      "    accuracy                           0.80     60731\n",
      "   macro avg       0.55      0.62      0.55     60731\n",
      "weighted avg       0.90      0.80      0.84     60731\n",
      "\n"
     ]
    }
   ],
   "source": [
    "print ('BASELINE MODELING OF XGBOOST', '\\n',skm.classification_report(y_test_encoded, xgb.predict(X_test_encoded)))"
   ]
  },
  {
   "cell_type": "markdown",
   "id": "a4b226f4",
   "metadata": {},
   "source": [
    "## Model Selection and Dimensionality Reduction ##"
   ]
  },
  {
   "cell_type": "code",
   "execution_count": 147,
   "id": "a06c9d72",
   "metadata": {},
   "outputs": [
    {
     "name": "stdout",
     "output_type": "stream",
     "text": [
      "[ 5.77046165  4.07104467  8.38952057  1.21112139  1.53106098  0.824743\n",
      " 27.18966428  1.24473997  0.52919038  4.97749707  2.42082742  2.50886247\n",
      "  3.5300791   1.00850587  4.46963094  2.40931063  0.43845247  2.13135148\n",
      "  0.63278261 23.87668098  0.83447207] Index(['age', 'gender', 'education', 'marital_status', 'race', 'is_hispanic',\n",
      "       'employment_commitment', 'employment_stat', 'wage_per_hour',\n",
      "       'working_week_per_year', 'industry_code_main', 'total_employed',\n",
      "       'household_summary', 'vet_benefit', 'tax_status', 'gains', 'losses',\n",
      "       'stocks_status', 'citizenship', 'mig_year', 'importance_of_record'],\n",
      "      dtype='object')\n"
     ]
    },
    {
     "data": {
      "text/plain": [
       "{5.770461646263599: 'age',\n",
       " 4.071044674629218: 'gender',\n",
       " 8.389520573808136: 'education',\n",
       " 1.2111213870114472: 'marital_status',\n",
       " 1.531060975396971: 'race',\n",
       " 0.8247430030312548: 'is_hispanic',\n",
       " 27.18966427973245: 'employment_commitment',\n",
       " 1.2447399748593797: 'employment_stat',\n",
       " 0.5291903822940062: 'wage_per_hour',\n",
       " 4.9774970650412005: 'working_week_per_year',\n",
       " 2.4208274174283813: 'industry_code_main',\n",
       " 2.5088624698045336: 'total_employed',\n",
       " 3.5300791011948682: 'household_summary',\n",
       " 1.0085058675785394: 'vet_benefit',\n",
       " 4.469630940300445: 'tax_status',\n",
       " 2.409310625566591: 'gains',\n",
       " 0.43845247413359467: 'losses',\n",
       " 2.131351479372921: 'stocks_status',\n",
       " 0.6327826067608135: 'citizenship',\n",
       " 23.876680981597588: 'mig_year',\n",
       " 0.8344720741941002: 'importance_of_record'}"
      ]
     },
     "execution_count": 147,
     "metadata": {},
     "output_type": "execute_result"
    },
    {
     "data": {
      "image/png": "[encoded data removed]",
      "text/plain": [
       "<Figure size 640x480 with 1 Axes>"
      ]
     },
     "metadata": {},
     "output_type": "display_data"
    }
   ],
   "source": [
    "print (cb.feature_importances_, X_train_encoded.columns)\n",
    "plt.barh(X_train_encoded.columns,cb.feature_importances_)\n",
    "dict1 = dict(zip(cb.feature_importances_,X_train_encoded.columns))\n",
    "dict1"
   ]
  },
  {
   "cell_type": "code",
   "execution_count": 152,
   "id": "3717a7d4",
   "metadata": {},
   "outputs": [
    {
     "data": {
      "text/plain": [
       "(57968, 8)"
      ]
     },
     "execution_count": 152,
     "metadata": {},
     "output_type": "execute_result"
    }
   ],
   "source": [
    "important_features = ['age','gender','education','employment_commitment','working_week_per_year',\n",
    "                      'household_summary','tax_status','mig_year']\n",
    "X_final = X[important_features]\n",
    "index_drop = X_final[X_final.duplicated()].index\n",
    "X_final.drop(index = index_drop, inplace = True)\n",
    "y.drop(index = index_drop, inplace = True)\n",
    "X_final.shape"
   ]
  },
  {
   "cell_type": "code",
   "execution_count": 153,
   "id": "dcc02f2a",
   "metadata": {},
   "outputs": [],
   "source": [
    "X_train, X_test, y_train, y_test = train_test_split(X_final,y,test_size = 0.3, random_state = 42)"
   ]
  },
  {
   "cell_type": "code",
   "execution_count": 155,
   "id": "f6f9d938",
   "metadata": {},
   "outputs": [
    {
     "name": "stdout",
     "output_type": "stream",
     "text": [
      "<class 'pandas.core.frame.DataFrame'>\n",
      "Int64Index: 40577 entries, 113477 to 196908\n",
      "Data columns (total 8 columns):\n",
      " #   Column                 Non-Null Count  Dtype   \n",
      "---  ------                 --------------  -----   \n",
      " 0   age                    40577 non-null  int64   \n",
      " 1   gender                 40577 non-null  category\n",
      " 2   education              40577 non-null  category\n",
      " 3   employment_commitment  40577 non-null  category\n",
      " 4   working_week_per_year  40577 non-null  int64   \n",
      " 5   household_summary      40577 non-null  category\n",
      " 6   tax_status             40577 non-null  category\n",
      " 7   mig_year               40577 non-null  int64   \n",
      "dtypes: category(5), int64(3)\n",
      "memory usage: 1.4 MB\n"
     ]
    }
   ],
   "source": [
    "X_train.info()\n",
    "categorical_features = [1,2,3,5,6]\n",
    "st = SMOTENC(categorical_features)\n",
    "X_new_train, y_new_train = st.fit_resample(X_train, y_train)"
   ]
  },
  {
   "cell_type": "code",
   "execution_count": 156,
   "id": "f3addef9",
   "metadata": {},
   "outputs": [
    {
     "data": {
      "text/plain": [
       "(array([38508.,     0.,     0.,     0.,     0.,     0.,     0.,     0.,\n",
       "            0., 38508.]),\n",
       " array([0. , 0.1, 0.2, 0.3, 0.4, 0.5, 0.6, 0.7, 0.8, 0.9, 1. ]),\n",
       " <BarContainer object of 10 artists>)"
      ]
     },
     "execution_count": 156,
     "metadata": {},
     "output_type": "execute_result"
    },
    {
     "data": {
      "image/png": "[encoded data removed]",
      "text/plain": [
       "<Figure size 640x480 with 1 Axes>"
      ]
     },
     "metadata": {},
     "output_type": "display_data"
    }
   ],
   "source": [
    "plt.hist(y_new_train)"
   ]
  },
  {
   "cell_type": "code",
   "execution_count": 157,
   "id": "9469c01b",
   "metadata": {},
   "outputs": [
    {
     "data": {
      "application/vnd.jupyter.widget-view+json": {
       "model_id": "95dee51e62a544cfbc4ca13b5214af71",
       "version_major": 2,
       "version_minor": 0
      },
      "text/plain": [
       "MetricVisualizer(layout=Layout(align_self='stretch', height='500px'))"
      ]
     },
     "metadata": {},
     "output_type": "display_data"
    },
    {
     "data": {
      "text/plain": [
       "<catboost.core.CatBoostClassifier at 0x159b72bd250>"
      ]
     },
     "execution_count": 157,
     "metadata": {},
     "output_type": "execute_result"
    }
   ],
   "source": [
    "# Pool creation\n",
    "train_pool = Pool(X_new_train,y_new_train,categorical_features)\n",
    "test_pool = Pool(X_test,y_test, categorical_features)\n",
    "\n",
    "# If model stops before iterating up to the mentioned, then model is overfitting\n",
    "cb = CatBoostClassifier(iterations=500,max_depth=5,learning_rate=0.05,random_seed = 42,verbose = False)\n",
    "cb.fit(X_new_train,y_new_train, eval_set = test_pool, cat_features = categorical_features, use_best_model= True, early_stopping_rounds=10, plot = True)"
   ]
  },
  {
   "cell_type": "code",
   "execution_count": 176,
   "id": "c67c84cf",
   "metadata": {},
   "outputs": [
    {
     "name": "stdout",
     "output_type": "stream",
     "text": [
      "MODELING OF CATBOOST AFTER FEATURE REDUCTION \n",
      "               precision    recall  f1-score   support\n",
      "\n",
      " Above limit       0.21      0.76      0.32       887\n",
      " Below limit       0.98      0.84      0.91     16504\n",
      "\n",
      "    accuracy                           0.84     17391\n",
      "   macro avg       0.60      0.80      0.62     17391\n",
      "weighted avg       0.94      0.84      0.88     17391\n",
      "\n"
     ]
    }
   ],
   "source": [
    "print ('MODELING OF CATBOOST AFTER FEATURE REDUCTION', '\\n', skm.classification_report(y_test, cb.predict(X_test)))"
   ]
  },
  {
   "cell_type": "markdown",
   "id": "a096822b",
   "metadata": {},
   "source": [
    "## Tuning ##"
   ]
  },
  {
   "cell_type": "code",
   "execution_count": 160,
   "id": "3f419b9b",
   "metadata": {},
   "outputs": [
    {
     "data": {
      "application/vnd.jupyter.widget-view+json": {
       "model_id": "6db9b4b6cf12412ebf8a015d1e64ac01",
       "version_major": 2,
       "version_minor": 0
      },
      "text/plain": [
       "MetricVisualizer(layout=Layout(align_self='stretch', height='500px'))"
      ]
     },
     "metadata": {},
     "output_type": "display_data"
    },
    {
     "data": {
      "text/plain": [
       "<catboost.core.CatBoostClassifier at 0x159dc91fe10>"
      ]
     },
     "execution_count": 160,
     "metadata": {},
     "output_type": "execute_result"
    }
   ],
   "source": [
    "# Increase the accuracy by taking the default paramas: no. of iterations = 1000, depth = 6\n",
    "cb_tuned = CatBoostClassifier(random_seed = 42,verbose = False)\n",
    "cb_tuned.fit(X_new_train,y_new_train, eval_set = test_pool, cat_features = categorical_features, use_best_model= True, early_stopping_rounds=10, plot = True)"
   ]
  },
  {
   "cell_type": "code",
   "execution_count": 185,
   "id": "6d6613e6",
   "metadata": {},
   "outputs": [
    {
     "data": {
      "text/plain": [
       "6"
      ]
     },
     "execution_count": 185,
     "metadata": {},
     "output_type": "execute_result"
    }
   ],
   "source": [
    "cb_tuned.get_all_params()['depth']"
   ]
  },
  {
   "cell_type": "code",
   "execution_count": 187,
   "id": "30524b52",
   "metadata": {},
   "outputs": [
    {
     "data": {
      "application/vnd.jupyter.widget-view+json": {
       "model_id": "a578274671d54e339eba3898f29f09d6",
       "version_major": 2,
       "version_minor": 0
      },
      "text/plain": [
       "MetricVisualizer(layout=Layout(align_self='stretch', height='500px'))"
      ]
     },
     "metadata": {},
     "output_type": "display_data"
    },
    {
     "data": {
      "text/plain": [
       "<catboost.core.CatBoostClassifier at 0x159d45c6e90>"
      ]
     },
     "execution_count": 187,
     "metadata": {},
     "output_type": "execute_result"
    }
   ],
   "source": [
    "# Case of overfitting as model is performing well on train but not test data, hence penalize it\n",
    "# Decrease learning rate, depth and increase the regularization paramters\n",
    "cb_tuned = CatBoostClassifier(random_seed = 42,verbose = False, learning_rate=0.05, l2_leaf_reg=5,depth = 5)\n",
    "cb_tuned.fit(X_new_train,y_new_train, eval_set = test_pool, cat_features = categorical_features, use_best_model= True, early_stopping_rounds=10, plot = True)"
   ]
  },
  {
   "cell_type": "code",
   "execution_count": 161,
   "id": "7967b131",
   "metadata": {},
   "outputs": [
    {
     "name": "stdout",
     "output_type": "stream",
     "text": [
      "CATBOOST AFTER 1st TUNING \n",
      "               precision    recall  f1-score   support\n",
      "\n",
      " Above limit       0.21      0.71      0.33       887\n",
      " Below limit       0.98      0.86      0.92     16504\n",
      "\n",
      "    accuracy                           0.85     17391\n",
      "   macro avg       0.60      0.79      0.62     17391\n",
      "weighted avg       0.94      0.85      0.89     17391\n",
      "\n"
     ]
    }
   ],
   "source": [
    "print ('CATBOOST AFTER 1st TUNING', '\\n', skm.classification_report(y_test,cb_tuned.predict(X_test)))"
   ]
  },
  {
   "cell_type": "code",
   "execution_count": 189,
   "id": "e7d76045",
   "metadata": {},
   "outputs": [
    {
     "name": "stdout",
     "output_type": "stream",
     "text": [
      "CATBOOST AFTER 2nd TUNING \n",
      "               precision    recall  f1-score   support\n",
      "\n",
      " Above limit       0.21      0.74      0.33       887\n",
      " Below limit       0.98      0.85      0.91     16504\n",
      "\n",
      "    accuracy                           0.84     17391\n",
      "   macro avg       0.60      0.80      0.62     17391\n",
      "weighted avg       0.94      0.84      0.88     17391\n",
      "\n"
     ]
    }
   ],
   "source": [
    "print ('CATBOOST AFTER 2nd TUNING', '\\n', skm.classification_report(y_test,cb_tuned.predict(X_test)))"
   ]
  },
  {
   "cell_type": "code",
   "execution_count": 190,
   "id": "7117edf5",
   "metadata": {},
   "outputs": [
    {
     "data": {
      "application/vnd.jupyter.widget-view+json": {
       "model_id": "7fe3969e37324552ad1e19540e89b7a9",
       "version_major": 2,
       "version_minor": 0
      },
      "text/plain": [
       "MetricVisualizer(layout=Layout(align_self='stretch', height='500px'))"
      ]
     },
     "metadata": {},
     "output_type": "display_data"
    },
    {
     "data": {
      "text/plain": [
       "<catboost.core.CatBoostClassifier at 0x159d31b8f50>"
      ]
     },
     "execution_count": 190,
     "metadata": {},
     "output_type": "execute_result"
    }
   ],
   "source": [
    "# No improving in log loss, reverting to the original values of cb_tuned\n",
    "cb_final = CatBoostClassifier(random_seed = 42,verbose = False)\n",
    "cb_final.fit(X_new_train,y_new_train, eval_set = test_pool, cat_features = categorical_features, use_best_model= True, early_stopping_rounds=10, plot = True)"
   ]
  },
  {
   "cell_type": "code",
   "execution_count": 192,
   "id": "52e2f446",
   "metadata": {},
   "outputs": [
    {
     "data": {
      "text/plain": [
       "'Below limit'"
      ]
     },
     "execution_count": 192,
     "metadata": {},
     "output_type": "execute_result"
    }
   ],
   "source": [
    "cb_final.predict(X_test.iloc[0])"
   ]
  },
  {
   "cell_type": "markdown",
   "id": "ea5f195f",
   "metadata": {},
   "source": [
    "## Saving the model ##"
   ]
  },
  {
   "cell_type": "code",
   "execution_count": 194,
   "id": "7ca53054",
   "metadata": {},
   "outputs": [],
   "source": [
    "joblib.dump(cb_final,'catboost.joblib')\n",
    "model = joblib.load('catboost.joblib')"
   ]
  },
  {
   "cell_type": "code",
   "execution_count": 202,
   "id": "1f64c9cb",
   "metadata": {},
   "outputs": [
    {
     "data": {
      "text/plain": [
       "array(['Below limit', 'Below limit', 'Below limit', ..., 'Below limit',\n",
       "       'Below limit', 'Below limit'], dtype=object)"
      ]
     },
     "execution_count": 202,
     "metadata": {},
     "output_type": "execute_result"
    }
   ],
   "source": [
    "model.predict(X_test)"
   ]
  },
  {
   "cell_type": "code",
   "execution_count": 210,
   "id": "a5b08d57",
   "metadata": {},
   "outputs": [
    {
     "data": {
      "text/plain": [
       "'Below limit'"
      ]
     },
     "execution_count": 210,
     "metadata": {},
     "output_type": "execute_result"
    }
   ],
   "source": [
    "# Sample streamlit checking\n",
    "model.predict([0,' Male',' Bachelors degree(BA AB BS)',' Children or Armed Forces',1,' Other relative of householder',\n",
    "' Joint both under 65', 94])"
   ]
  },
  {
   "cell_type": "code",
   "execution_count": 209,
   "id": "42e4ff17",
   "metadata": {},
   "outputs": [
    {
     "data": {
      "text/plain": [
       "'Above limit'"
      ]
     },
     "execution_count": 209,
     "metadata": {},
     "output_type": "execute_result"
    }
   ],
   "source": [
    "model.predict([29,' Female',' Masters degree(MA MS MEng MEd MSW MBA)',' Full-time schedules',52,\n",
    "' Householder',' Single', 94])"
   ]
  }
 ],
 "metadata": {
  "kernelspec": {
   "display_name": "Python 3 (ipykernel)",
   "language": "python",
   "name": "python3"
  },
  "language_info": {
   "codemirror_mode": {
    "name": "ipython",
    "version": 3
   },
   "file_extension": ".py",
   "mimetype": "text/x-python",
   "name": "python",
   "nbconvert_exporter": "python",
   "pygments_lexer": "ipython3",
   "version": "3.11.9"
  }
 },
 "nbformat": 4,
 "nbformat_minor": 5
}
